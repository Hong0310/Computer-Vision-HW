{
 "cells": [
  {
   "cell_type": "markdown",
   "metadata": {
    "colab_type": "text",
    "id": "XSfnuObtYYMH"
   },
   "source": [
    "# CSE527 Homework 4\n",
    "**Due date: 11:59 pm EST on April 24, 2022 (Sun.)**\n",
    "\n",
    "In this semester, we will use Google Colab for the assignments, which allows us to utilize resources that some of us might not have in their local machines such as GPUs. You will need to use your Stony Brook (*.stonybrook.edu) account for coding and Google Drive to save your results.\n",
    "\n",
    "## Google Colab Tutorial\n",
    "---\n",
    "Go to https://colab.research.google.com/notebooks/, you will see a tutorial named \"Welcome to Colaboratory\" file, where you can learn the basics of using google colab.\n",
    "\n",
    "Settings used for assignments: ***Edit -> Notebook Settings -> Runtime Type (Python 3)***.\n",
    "\n",
    "\n",
    "## Description\n",
    "---\n",
    "This project is an introduction to deep learning tools for computer vision. You will design and train deep convolutional networks for scene recognition using [PyTorch](http://pytorch.org). You can visualize the\n",
    "structure of the network with [mNeuron] (http://vision03.csail.mit.edu/cnn_art/index.html)\n",
    "\n",
    "In Problem 1 of the project you will train a deep convolutional network from scratch to recognize scenes. The starter codes gives you methods to load data and display them. You will need to define a simple network architecture and add jittering, normalization, and regularization to increase recognition accuracy to 50, 60, or perhaps 70%. Unfortunately, we only have 2,400 training examples so it doesn't seem possible to train a network from scratch which outperforms hand-crafted features\n",
    "\n",
    "For Problem 2 you will instead fine-tune a pre-trained deep network to achieve about 85% accuracy on the task. We will use the pretrained AlexNet network which was not trained to recognize scenes at all. \n",
    "\n",
    "These two approaches represent the most common approaches to recognition problems in computer vision today -- train a deep network from scratch if you have enough data (it's not always obvious whether or not you do), and if you cannot then instead fine-tune a pre-trained network.\n",
    "\n",
    "There are 2 problems in this homework with a total of 110 points including 10 bonus points. Be sure to read **Submission Guidelines** below. They are important. For the problems requiring text descriptions, you might want to add a markdown block for that.\n",
    "\n",
    "## Dataset\n",
    "---\n",
    "Save the [dataset(click me)](https://drive.google.com/open?id=1NWC3TMsXSWN2TeoYMCjhf2N1b-WRDh-M) into your working folder in your Google Drive for this homework. <br>\n",
    "Under your root folder, there should be a folder named \"data\" (i.e. XXX/Surname_Givenname_SBUID/data) containing the images.\n",
    "**Do not upload** the data subfolder before submitting on blackboard due to size limit. There should be only one .ipynb file under your root folder Surname_Givenname_SBUID.\n",
    "\n",
    "## Some Tutorials (PyTorch)\n",
    "---\n",
    "- You will be using PyTorch for deep learning toolbox (follow the [link](http://pytorch.org) for installation).\n",
    "- For PyTorch beginners, please read this [tutorial](http://pytorch.org/tutorials/beginner/deep_learning_60min_blitz.html) before doing your homework.\n",
    "- Feel free to study more tutorials at http://pytorch.org/tutorials/.\n",
    "- Find cool visualization here at http://playground.tensorflow.org.\n",
    "\n",
    "\n"
   ]
  },
  {
   "cell_type": "code",
   "execution_count": 3,
   "metadata": {
    "colab": {},
    "colab_type": "code",
    "id": "0UA6WFgcYYMI"
   },
   "outputs": [],
   "source": [
    "# import packages here\n",
    "import cv2\n",
    "import numpy as np\n",
    "import matplotlib.pyplot as plt\n",
    "import glob\n",
    "import random \n",
    "import time\n",
    "\n",
    "import torch\n",
    "import torchvision\n",
    "import torchvision.transforms as transforms\n",
    "\n",
    "from torch.autograd import Variable\n",
    "import torch.nn as nn\n",
    "import torch.nn.functional as F"
   ]
  },
  {
   "cell_type": "code",
   "execution_count": null,
   "metadata": {
    "colab": {},
    "colab_type": "code",
    "id": "L7T72O-1ks-a"
   },
   "outputs": [],
   "source": [
    "# Mount your google drive where you've saved your assignment folder\n",
    "from google.colab import drive\n",
    "drive.mount('/content/gdrive')"
   ]
  },
  {
   "cell_type": "code",
   "execution_count": null,
   "metadata": {
    "colab": {},
    "colab_type": "code",
    "id": "xIT3WIuykrg0"
   },
   "outputs": [],
   "source": [
    "# Set your working directory (in your google drive)\n",
    "#   change it to your specific homework directory.\n",
    "!cd '/content/gdrive/MyDrive/CSE527-22S/CSE527-22S-HW4'"
   ]
  },
  {
   "cell_type": "markdown",
   "metadata": {
    "colab_type": "text",
    "id": "HnkJ-LmJyBod"
   },
   "source": [
    "## Problem 0: Loading and Preprocessing data\n",
    "---\n",
    "(0 point) In this part, you are provided with a function that loads data into minibatches for training and testing in PyTorch. However, some preprocessing parts are missing. Your will need to implement them when doing Problem 1."
   ]
  },
  {
   "cell_type": "code",
   "execution_count": 4,
   "metadata": {
    "colab": {
     "base_uri": "https://localhost:8080/",
     "height": 55
    },
    "colab_type": "code",
    "id": "0NxnBcUqk_9B",
    "outputId": "05104a41-ddd0-47e5-dc28-46a9d2c7f06d"
   },
   "outputs": [
    {
     "name": "stdout",
     "output_type": "stream",
     "text": [
      "class_names: {0: 'Forest', 1: 'Bedroom', 2: 'Office', 3: 'Highway', 4: 'Flower', 5: 'Coast', 6: 'InsideCity', 7: 'TallBuilding', 8: 'Industrial', 9: 'Street', 10: 'LivingRoom', 11: 'Suburb', 12: 'Mountain', 13: 'Kitchen', 14: 'OpenCountry', 15: 'Store'} \n"
     ]
    }
   ],
   "source": [
    "#--------------------------------------------------\n",
    "#    Load Training Data and Testing Data\n",
    "#--------------------------------------------------\n",
    "\n",
    "def set_random_seed(seed):\n",
    "     torch.manual_seed(seed)\n",
    "     torch.cuda.manual_seed_all(seed)\n",
    "     np.random.seed(seed)\n",
    "     random.seed(seed)\n",
    "     torch.backends.cudnn.deterministic = True\n",
    "set_random_seed(0)\n",
    "\n",
    "class_names = [name[13:] for name in glob.glob('./data/train/*')]\n",
    "class_names = dict(zip(range(len(class_names)), class_names))\n",
    "print(\"class_names: %s \" % class_names)\n",
    "\n",
    "def load_dataset(path, img_size, num_per_class=-1, batch_size=16, shuffle=False,\n",
    "           augment=False, is_color=False, zero_centered=False):    \n",
    "    data = []\n",
    "    labels = []    \n",
    "    channel_num = 3 if is_color else 1\n",
    "        \n",
    "    # read images and resizing\n",
    "    for id, class_name in class_names.items():\n",
    "        print(\"Loading images from class: %s\" % id)\n",
    "        img_path_class = glob.glob(path + class_name + '/*.jpg')\n",
    "        if num_per_class > 0:\n",
    "            img_path_class = img_path_class[:num_per_class]\n",
    "        labels.extend([id]*len(img_path_class))\n",
    "        for filename in img_path_class:\n",
    "            if is_color:\n",
    "                img = cv2.imread(filename)\n",
    "            else:\n",
    "                img = cv2.imread(filename, 0)\n",
    "            \n",
    "            # resize the image\n",
    "            img = cv2.resize(img, img_size, cv2.INTER_LINEAR)\n",
    "            \n",
    "            if is_color:\n",
    "                img = np.transpose(img, [2, 0, 1])\n",
    "            \n",
    "            # norm pixel values to [-1, 1]\n",
    "            data.append(img.astype(np.float)/255*2-1)\n",
    "            \n",
    "    ##########--WRITE YOUR CODE HERE--##########\n",
    "    # Data Augmentation \n",
    "    if augment: \n",
    "        augment_data = [cv2.flip(img, 1) for img in data]\n",
    "        data += augment_data\n",
    "        labels += labels\n",
    "\n",
    "    ##########-------END OF CODE-------##########    \n",
    "    \n",
    "    ##########--WRITE YOUR CODE HERE--##########\n",
    "    # Data Normalization\n",
    "    if zero_centered:\n",
    "        data_array = np.array(data)\n",
    "        data = (data_array - np.mean(data_array)) / (np.std(data_array))\n",
    "\n",
    "    ##########-------END OF CODE-------##########\n",
    "         \n",
    "    # randomly permute (this step is important for training)\n",
    "    if shuffle:\n",
    "        bundle = list(zip(data, labels))\n",
    "        random.shuffle(bundle)\n",
    "        data, labels = zip(*bundle)\n",
    "    \n",
    "    # divide data into minibatches of TorchTensors\n",
    "    if batch_size > 1:\n",
    "        batch_data = []\n",
    "        batch_labels = []\n",
    "         \n",
    "        for i in range(int(len(data) / batch_size)):\n",
    "            minibatch_d = data[i*batch_size: (i+1)*batch_size]\n",
    "            minibatch_d = np.reshape(minibatch_d, (batch_size, channel_num, img_size[0], img_size[1]))\n",
    "            batch_data.append(torch.from_numpy(minibatch_d))\n",
    "\n",
    "            minibatch_l = labels[i*batch_size: (i+1)*batch_size]\n",
    "            batch_labels.append(torch.LongTensor(minibatch_l))\n",
    "        data, labels = batch_data, batch_labels \n",
    "    \n",
    "    return zip(batch_data, batch_labels)"
   ]
  },
  {
   "cell_type": "code",
   "execution_count": 11,
   "metadata": {
    "colab": {},
    "colab_type": "code",
    "id": "wHI2VYbDloje"
   },
   "outputs": [
    {
     "name": "stdout",
     "output_type": "stream",
     "text": [
      "Loading images from class: 0\n"
     ]
    },
    {
     "name": "stderr",
     "output_type": "stream",
     "text": [
      "/var/folders/pk/yh0zm7715z35f7sw6344hj340000gn/T/ipykernel_2391/135866193.py:43: DeprecationWarning: `np.float` is a deprecated alias for the builtin `float`. To silence this warning, use `float` by itself. Doing this will not modify any behavior and is safe. If you specifically wanted the numpy scalar type, use `np.float64` here.\n",
      "Deprecated in NumPy 1.20; for more details and guidance: https://numpy.org/devdocs/release/1.20.0-notes.html#deprecations\n",
      "  data.append(img.astype(np.float)/255*2-1)\n"
     ]
    },
    {
     "name": "stdout",
     "output_type": "stream",
     "text": [
      "Loading images from class: 1\n",
      "Loading images from class: 2\n",
      "Loading images from class: 3\n",
      "Loading images from class: 4\n",
      "Loading images from class: 5\n",
      "Loading images from class: 6\n",
      "Loading images from class: 7\n",
      "Loading images from class: 8\n",
      "Loading images from class: 9\n",
      "Loading images from class: 10\n",
      "Loading images from class: 11\n",
      "Loading images from class: 12\n",
      "Loading images from class: 13\n",
      "Loading images from class: 14\n",
      "Loading images from class: 15\n",
      "Finish loading 37 minibatches (batch_size=64) of training samples.\n",
      "Loading images from class: 0\n",
      "Loading images from class: 1\n",
      "Loading images from class: 2\n",
      "Loading images from class: 3\n",
      "Loading images from class: 4\n",
      "Loading images from class: 5\n",
      "Loading images from class: 6\n",
      "Loading images from class: 7\n",
      "Loading images from class: 8\n",
      "Loading images from class: 9\n",
      "Loading images from class: 10\n",
      "Loading images from class: 11\n",
      "Loading images from class: 12\n",
      "Loading images from class: 13\n",
      "Loading images from class: 14\n",
      "Loading images from class: 15\n",
      "Finish loading 6 minibatches (batch_size=64) of testing samples.\n"
     ]
    }
   ],
   "source": [
    "# load data into size (64, 64)\n",
    "img_size = (64, 64)\n",
    "batch_size = 64 # training sample number per batch\n",
    "\n",
    "# load training dataset\n",
    "trainloader_small = list(load_dataset('./data/train/', img_size, batch_size=batch_size, shuffle=True))\n",
    "train_num = len(trainloader_small)\n",
    "print(\"Finish loading %d minibatches (batch_size=%d) of training samples.\" % (train_num, batch_size))\n",
    "\n",
    "# load testing dataset\n",
    "testloader_small = list(load_dataset('./data/test/', img_size, num_per_class=50, batch_size=batch_size))\n",
    "test_num = len(testloader_small)\n",
    "print(\"Finish loading %d minibatches (batch_size=%d) of testing samples.\" % (test_num, batch_size))"
   ]
  },
  {
   "cell_type": "code",
   "execution_count": 4,
   "metadata": {
    "colab": {
     "base_uri": "https://localhost:8080/",
     "height": 286
    },
    "colab_type": "code",
    "id": "krCXjDOzlq0f",
    "outputId": "4ca846a9-f311-4cbd-d837-b78e5b00fa5d"
   },
   "outputs": [
    {
     "name": "stdout",
     "output_type": "stream",
     "text": [
      "Store\n"
     ]
    },
    {
     "data": {
      "image/png": "[encoded data removed]",
      "text/plain": [
       "<Figure size 432x288 with 1 Axes>"
      ]
     },
     "metadata": {
      "needs_background": "light"
     },
     "output_type": "display_data"
    }
   ],
   "source": [
    "# show some images\n",
    "def imshow(img):\n",
    "    img = img / 2 + 0.5     # unnormalize\n",
    "    npimg = img.numpy()\n",
    "    if len(npimg.shape) > 2:\n",
    "        npimg = np.transpose(img, [1, 2, 0])\n",
    "    plt.figure\n",
    "    plt.imshow(npimg, 'gray')\n",
    "    plt.show()\n",
    "img, label = trainloader_small[0][0][11][0], trainloader_small[0][1][11]\n",
    "label = int(np.array(label))\n",
    "print(class_names[label])\n",
    "imshow(img)"
   ]
  },
  {
   "cell_type": "markdown",
   "metadata": {
    "colab_type": "text",
    "id": "JGA-K6QzYYMR"
   },
   "source": [
    "## Problem 1: Training a Network From Scratch\n",
    "Gone are the days of hand designed features. Now we have end-to-end learning in which a highly non-linear representation is learned for our data to maximize our objective function (in this case, 16-way classification accuracy). Let's start!"
   ]
  },
  {
   "cell_type": "markdown",
   "metadata": {
    "colab_type": "text",
    "id": "s6OPghPL1ZGt"
   },
   "source": [
    "First, let's define a simpe network architecture."
   ]
  },
  {
   "cell_type": "code",
   "execution_count": 5,
   "metadata": {
    "colab": {},
    "colab_type": "code",
    "id": "LI9qG3x-zbe-"
   },
   "outputs": [],
   "source": [
    "#--------------------------------------------------\n",
    "#       Define Network Architecture\n",
    "#--------------------------------------------------\n",
    "class TNet(nn.Module):\n",
    "    def __init__(self):\n",
    "      super(TNet,self).__init__()  \n",
    "           \n",
    "      self.features = torch.nn.Sequential(\n",
    "        nn.Conv2d(1, 16, 3),\n",
    "        nn.ReLU(),\n",
    "        nn.MaxPool2d(4, stride=4), \n",
    "      )\n",
    "      \n",
    "      self.classifier = nn.Sequential(\n",
    "         nn.Linear(3600, 16), \n",
    "      )\n",
    "      \n",
    "    def forward(self, x):\n",
    "      x = self.features(x)  \n",
    "      x = torch.flatten(x, 1)\n",
    "      x = self.classifier(x)\n",
    "      return x  \n",
    "  "
   ]
  },
  {
   "cell_type": "markdown",
   "metadata": {
    "colab_type": "text",
    "id": "-PBerwk-1leX"
   },
   "source": [
    "Then, let's define model training and evaluation functions."
   ]
  },
  {
   "cell_type": "code",
   "execution_count": 6,
   "metadata": {
    "colab": {},
    "colab_type": "code",
    "id": "sNJTDG8xoJwH"
   },
   "outputs": [],
   "source": [
    "#--------------------------------------------------\n",
    "#       Model Training Function\n",
    "#--------------------------------------------------\n",
    "import torch.optim as optim\n",
    "import time\n",
    "  \n",
    "def trainModel(net, trainloader, train_option, testloader=None):  \n",
    "  loss_func = nn.CrossEntropyLoss()\n",
    "  lr = train_option['lr']\n",
    "  epoch = train_option['epoch']\n",
    "  device = train_option['device'] if 'device' in train_option.keys() else 'cpu'\n",
    "  log_iter = train_option['log_iter'] if 'log_iter' in train_option.keys() else 20\n",
    "  eval_epoch = 1\n",
    "  \n",
    "  if 'optimizer' in train_option.keys():\n",
    "    optimizer = train_option['optimizer']\n",
    "  else:\n",
    "    optimizer = optim.Adam(net.parameters(), lr=lr)\n",
    "\n",
    "  start_time = time.time()\n",
    "  if device == 'gpu':\n",
    "    net = net\n",
    "    \n",
    "  iters = 0\n",
    "  running_loss = 0.0\n",
    "  for ep in range(epoch):\n",
    "    net.train()        \n",
    "    for iter, (x, y) in enumerate(trainloader):\n",
    "      iters += 1\n",
    "      batch_x = Variable(x).float()\n",
    "      batch_y = Variable(y).long()\n",
    "      if device == 'gpu':\n",
    "        batch_x = batch_x\n",
    "        batch_y = batch_y\n",
    "\n",
    "      outputs = net(batch_x)\n",
    "      loss = loss_func(outputs, batch_y)\n",
    "      optimizer.zero_grad()\n",
    "      loss.backward()\n",
    "      optimizer.step()\n",
    "      running_loss += loss.item()\n",
    "      \n",
    "      time_lapse = time.strftime('%H:%M:%S', time.gmtime(time.time() - start_time))\n",
    "      if iter % log_iter == 0:\n",
    "        print('Epoch:{:2d} | Iter:{:5d} | Time: {} | Train Loss: {:.4f} | Average Loss: {:.4f} '.format(ep+1, iter, time_lapse, loss.item(), running_loss/iters))\n",
    "   \n",
    "    if testloader is not None and ep % eval_epoch == 0:\n",
    "      evalModel(net, testloader)\n"
   ]
  },
  {
   "cell_type": "code",
   "execution_count": 7,
   "metadata": {
    "colab": {},
    "colab_type": "code",
    "id": "m5sadf8qoOW6"
   },
   "outputs": [],
   "source": [
    "#--------------------------------------------------\n",
    "#       Model Evaluating Function\n",
    "#--------------------------------------------------\n",
    "import time\n",
    "  \n",
    "def evalModel(net, testloader): \n",
    "  acc = 0.0\n",
    "  count = 0\n",
    "  start_time = time.time()\n",
    "  device = 'gpu' if next(net.parameters()).is_cuda else 'cpu'\n",
    "  net.eval()\n",
    "  \n",
    "  for iter, (x, y) in enumerate(testloader):\n",
    "        count += x.shape[0]\n",
    "        batch_x = Variable(x).float()\n",
    "        batch_y = Variable(y).long()\n",
    "        if device == 'gpu':\n",
    "          batch_x = batch_x\n",
    "          batch_y = batch_y\n",
    "        outputs = net(batch_x)\n",
    "        acc += torch.sum(outputs.max(1)[1]==batch_y)\n",
    "        \n",
    "  time_lapse = time.strftime('%H:%M:%S', time.gmtime(time.time() - start_time))        \n",
    "  print('Accuracy: {:5f} | Time: {}'.format(acc/count,time_lapse))\n",
    "  "
   ]
  },
  {
   "cell_type": "markdown",
   "metadata": {
    "colab_type": "text",
    "id": "Mrm2SErt7wzZ"
   },
   "source": [
    "Finally, let's start training and evaluation."
   ]
  },
  {
   "cell_type": "code",
   "execution_count": 8,
   "metadata": {
    "colab": {
     "base_uri": "https://localhost:8080/",
     "height": 1000
    },
    "colab_type": "code",
    "id": "KDwrBoHVukOK",
    "outputId": "1b95303a-dbe8-4aca-df43-413c8da01857"
   },
   "outputs": [
    {
     "name": "stdout",
     "output_type": "stream",
     "text": [
      "Epoch: 1 | Iter:    0 | Time: 00:00:00 | Train Loss: 2.7918 | Average Loss: 2.7918 \n",
      "Epoch: 1 | Iter:   20 | Time: 00:00:00 | Train Loss: 2.4082 | Average Loss: 2.6277 \n",
      "Accuracy: 0.354167 | Time: 00:00:00\n",
      "Epoch: 2 | Iter:    0 | Time: 00:00:01 | Train Loss: 1.6827 | Average Loss: 2.4435 \n",
      "Epoch: 2 | Iter:   20 | Time: 00:00:02 | Train Loss: 1.7694 | Average Loss: 2.2263 \n",
      "Accuracy: 0.388021 | Time: 00:00:00\n",
      "Epoch: 3 | Iter:    0 | Time: 00:00:02 | Train Loss: 1.3253 | Average Loss: 2.1130 \n",
      "Epoch: 3 | Iter:   20 | Time: 00:00:03 | Train Loss: 1.3425 | Average Loss: 1.9689 \n",
      "Accuracy: 0.440104 | Time: 00:00:00\n",
      "Epoch: 4 | Iter:    0 | Time: 00:00:04 | Train Loss: 1.0495 | Average Loss: 1.8767 \n",
      "Epoch: 4 | Iter:   20 | Time: 00:00:04 | Train Loss: 1.0584 | Average Loss: 1.7662 \n",
      "Accuracy: 0.455729 | Time: 00:00:00\n",
      "Epoch: 5 | Iter:    0 | Time: 00:00:05 | Train Loss: 0.8694 | Average Loss: 1.6888 \n",
      "Epoch: 5 | Iter:   20 | Time: 00:00:06 | Train Loss: 0.8453 | Average Loss: 1.5987 \n",
      "Accuracy: 0.463542 | Time: 00:00:00\n",
      "Epoch: 6 | Iter:    0 | Time: 00:00:06 | Train Loss: 0.7288 | Average Loss: 1.5328 \n",
      "Epoch: 6 | Iter:   20 | Time: 00:00:07 | Train Loss: 0.6794 | Average Loss: 1.4574 \n",
      "Accuracy: 0.463542 | Time: 00:00:00\n",
      "Epoch: 7 | Iter:    0 | Time: 00:00:08 | Train Loss: 0.6157 | Average Loss: 1.4005 \n",
      "Epoch: 7 | Iter:   20 | Time: 00:00:08 | Train Loss: 0.5530 | Average Loss: 1.3366 \n",
      "Accuracy: 0.450521 | Time: 00:00:00\n",
      "Epoch: 8 | Iter:    0 | Time: 00:00:09 | Train Loss: 0.5221 | Average Loss: 1.2870 \n",
      "Epoch: 8 | Iter:   20 | Time: 00:00:10 | Train Loss: 0.4542 | Average Loss: 1.2326 \n",
      "Accuracy: 0.473958 | Time: 00:00:00\n",
      "Epoch: 9 | Iter:    0 | Time: 00:00:10 | Train Loss: 0.4409 | Average Loss: 1.1894 \n",
      "Epoch: 9 | Iter:   20 | Time: 00:00:11 | Train Loss: 0.3774 | Average Loss: 1.1430 \n",
      "Accuracy: 0.473958 | Time: 00:00:00\n",
      "Epoch:10 | Iter:    0 | Time: 00:00:12 | Train Loss: 0.3709 | Average Loss: 1.1054 \n",
      "Epoch:10 | Iter:   20 | Time: 00:00:12 | Train Loss: 0.3090 | Average Loss: 1.0657 \n",
      "Accuracy: 0.505208 | Time: 00:00:00\n",
      "Epoch:11 | Iter:    0 | Time: 00:00:13 | Train Loss: 0.3273 | Average Loss: 1.0333 \n",
      "Epoch:11 | Iter:   20 | Time: 00:00:14 | Train Loss: 0.2471 | Average Loss: 0.9996 \n",
      "Accuracy: 0.479167 | Time: 00:00:00\n",
      "Epoch:12 | Iter:    0 | Time: 00:00:14 | Train Loss: 0.3230 | Average Loss: 0.9727 \n",
      "Epoch:12 | Iter:   20 | Time: 00:00:15 | Train Loss: 0.2702 | Average Loss: 0.9448 \n",
      "Accuracy: 0.424479 | Time: 00:00:00\n",
      "Epoch:13 | Iter:    0 | Time: 00:00:16 | Train Loss: 0.4275 | Average Loss: 0.9225 \n",
      "Epoch:13 | Iter:   20 | Time: 00:00:16 | Train Loss: 0.5017 | Average Loss: 0.8989 \n",
      "Accuracy: 0.434896 | Time: 00:00:00\n",
      "Epoch:14 | Iter:    0 | Time: 00:00:17 | Train Loss: 0.2967 | Average Loss: 0.8800 \n",
      "Epoch:14 | Iter:   20 | Time: 00:00:17 | Train Loss: 0.3477 | Average Loss: 0.8573 \n",
      "Accuracy: 0.466146 | Time: 00:00:00\n",
      "Epoch:15 | Iter:    0 | Time: 00:00:18 | Train Loss: 0.2950 | Average Loss: 0.8389 \n",
      "Epoch:15 | Iter:   20 | Time: 00:00:19 | Train Loss: 0.2732 | Average Loss: 0.8172 \n",
      "Accuracy: 0.481771 | Time: 00:00:00\n",
      "Epoch:16 | Iter:    0 | Time: 00:00:19 | Train Loss: 0.2309 | Average Loss: 0.8003 \n",
      "Epoch:16 | Iter:   20 | Time: 00:00:20 | Train Loss: 0.2547 | Average Loss: 0.7823 \n",
      "Accuracy: 0.447917 | Time: 00:00:00\n",
      "Epoch:17 | Iter:    0 | Time: 00:00:21 | Train Loss: 0.2200 | Average Loss: 0.7681 \n",
      "Epoch:17 | Iter:   20 | Time: 00:00:21 | Train Loss: 0.3410 | Average Loss: 0.7529 \n",
      "Accuracy: 0.445312 | Time: 00:00:00\n",
      "Epoch:18 | Iter:    0 | Time: 00:00:22 | Train Loss: 0.3679 | Average Loss: 0.7411 \n",
      "Epoch:18 | Iter:   20 | Time: 00:00:23 | Train Loss: 0.2576 | Average Loss: 0.7277 \n",
      "Accuracy: 0.497396 | Time: 00:00:00\n",
      "Epoch:19 | Iter:    0 | Time: 00:00:23 | Train Loss: 0.2839 | Average Loss: 0.7160 \n",
      "Epoch:19 | Iter:   20 | Time: 00:00:24 | Train Loss: 0.2435 | Average Loss: 0.7044 \n",
      "Accuracy: 0.507812 | Time: 00:00:00\n",
      "Epoch:20 | Iter:    0 | Time: 00:00:25 | Train Loss: 0.3563 | Average Loss: 0.6943 \n",
      "Epoch:20 | Iter:   20 | Time: 00:00:25 | Train Loss: 0.2836 | Average Loss: 0.6835 \n",
      "Accuracy: 0.505208 | Time: 00:00:00\n"
     ]
    }
   ],
   "source": [
    "#--------------------------------------------------\n",
    "#       Start Training & Evaluation\n",
    "#--------------------------------------------------\n",
    "net = TNet() \n",
    "train_option = {}\n",
    "train_option['lr'] = 0.002\n",
    "train_option['epoch'] = 20\n",
    "train_option['device'] = 'gpu'\n",
    "trainModel(net, trainloader_small, train_option, testloader_small)"
   ]
  },
  {
   "cell_type": "markdown",
   "metadata": {
    "colab_type": "text",
    "id": "HaRIpcUeAYSl"
   },
   "source": [
    "Great! You would get around 0.45-0.50 accuracy by this very simple network. Now it's your job to beat this result.\n",
    "\n",
    "### Problem 1.1\n",
    "(35 points) Try to boost the accuracy by doing the following steps:\n",
    "\n",
    "**Data Augmentation**: We don't have enough training data, let's augment the training data.\n",
    "If you **left-right flip (mirror) an image** of a scene, it never changes categories. A kitchen doesn't become a forest when mirrored. This isn't true in all domains — a \"d\" becomes a \"b\" when mirrored, so you can't \"jitter\" digit recognition training data in the same way. But we can synthetically increase our amount of training data by left-right mirroring training images during the learning process.\n",
    "\n",
    "After you implement mirroring, you should notice that your training error doesn't drop as quickly. That's actually a good thing, because it means the network isn't overfitting to the 2,400 original training images as much (because it sees 4,800 training images now, although they're not as good as 4,800 truly independent samples). Because the training and test errors fall more slowly, you may need more training epochs or you may try modifying the learning rate. You are **required** to implement mirroring as data augmentation for this part.\n",
    "\n",
    "You can try more elaborate forms of jittering -- zooming in a random amount, rotating a random amount, taking a random crop, etc. These are not required, you might want to try these in the bonus part.\n",
    "\n",
    "**Data Normalization**: The images aren't **zero-centered**. One simple trick which can help a lot is to subtract the mean from every image. It would arguably be more proper to only compute the mean from the training images (since the test/validation images should be strictly held out) but it won't make much of a difference. This part is **required**.\n",
    "\n",
    "**Network Regularization**: Add **dropout layer**. If you train your network (especially for more than the default 30 epochs) you'll see that the training error can decrease to zero while the val top1 error hovers at 40% to 50%. The network has learned weights which can perfectly recognize the training data, but those weights don't generalize to held out test data. The best regularization would be more training data but we don't have that. Instead we will use dropout regularization.\n",
    "\n",
    "What does dropout regularization do? It randomly turns off network connections at training time to fight overfitting. This prevents a unit in one layer from relying too strongly on a single unit in the previous layer. Dropout regularization can be interpreted as simultaneously training many \"thinned\" versions of your network. At test, all connections are restored which is analogous to taking an average prediction over all of the \"thinned\" networks. You can see a more complete discussion of dropout regularization in this [paper](https://www.cs.toronto.edu/~hinton/absps/JMLRdropout.pdf).\n",
    "\n",
    "The dropout layer has only one free parameter — the dropout rate — the proportion of connections that are randomly deleted. The default of 0.5 should be fine. Insert a dropout layer between your convolutional layers. In particular, insert it directly before your last convolutional layer (and try others if that helps). Your train accuracy should decrease much more slowly. That's to be expected — you're making life much harder for the training algorithm by cutting out connections randomly. In this part, you are **required** to add dropout layer to your network.\n",
    "\n",
    "**Please give detailed descriptions of your network layout in the following format:**<br>\n",
    "Data augmentation: [descriptions]<br>\n",
    "Data normalization: [descriptions]<br>\n",
    "Layer 1: [layer_type]: [Parameters]<br>\n",
    "Layer 2: [layer_type]: [Parameters]<br>\n",
    "...<br>\n",
    "**Then report the final accuracy on test set.**\n",
    "\n",
    "The minimum accuracy required for this section is **0.55**."
   ]
  },
  {
   "cell_type": "code",
   "execution_count": 9,
   "metadata": {
    "colab": {},
    "colab_type": "code",
    "id": "3S9dgoEWFCcI"
   },
   "outputs": [
    {
     "name": "stdout",
     "output_type": "stream",
     "text": [
      "Loading images from class: 0\n"
     ]
    },
    {
     "name": "stderr",
     "output_type": "stream",
     "text": [
      "/var/folders/pk/yh0zm7715z35f7sw6344hj340000gn/T/ipykernel_630/135866193.py:43: DeprecationWarning: `np.float` is a deprecated alias for the builtin `float`. To silence this warning, use `float` by itself. Doing this will not modify any behavior and is safe. If you specifically wanted the numpy scalar type, use `np.float64` here.\n",
      "Deprecated in NumPy 1.20; for more details and guidance: https://numpy.org/devdocs/release/1.20.0-notes.html#deprecations\n",
      "  data.append(img.astype(np.float)/255*2-1)\n"
     ]
    },
    {
     "name": "stdout",
     "output_type": "stream",
     "text": [
      "Loading images from class: 1\n",
      "Loading images from class: 2\n",
      "Loading images from class: 3\n",
      "Loading images from class: 4\n",
      "Loading images from class: 5\n",
      "Loading images from class: 6\n",
      "Loading images from class: 7\n",
      "Loading images from class: 8\n",
      "Loading images from class: 9\n",
      "Loading images from class: 10\n",
      "Loading images from class: 11\n",
      "Loading images from class: 12\n",
      "Loading images from class: 13\n",
      "Loading images from class: 14\n",
      "Loading images from class: 15\n",
      "Finish loading 75 minibatches (batch_size=64) of training samples.\n",
      "Loading images from class: 0\n",
      "Loading images from class: 1\n",
      "Loading images from class: 2\n",
      "Loading images from class: 3\n",
      "Loading images from class: 4\n",
      "Loading images from class: 5\n",
      "Loading images from class: 6\n",
      "Loading images from class: 7\n",
      "Loading images from class: 8\n",
      "Loading images from class: 9\n",
      "Loading images from class: 10\n",
      "Loading images from class: 11\n",
      "Loading images from class: 12\n",
      "Loading images from class: 13\n",
      "Loading images from class: 14\n",
      "Loading images from class: 15\n",
      "Finish loading 6 minibatches (batch_size=64) of testing samples.\n"
     ]
    }
   ],
   "source": [
    "# load data into size (64, 64)\n",
    "img_size = (64, 64)\n",
    "batch_size = 64 # training sample number per batch\n",
    "\n",
    "# load training dataset\n",
    "trainloader_small = list(load_dataset('./data/train/', img_size, batch_size=batch_size, shuffle=True, augment=True, zero_centered=True))\n",
    "train_num = len(trainloader_small)\n",
    "print(\"Finish loading %d minibatches (batch_size=%d) of training samples.\" % (train_num, batch_size))\n",
    "\n",
    "# load testing dataset\n",
    "testloader_small = list(load_dataset('./data/test/', img_size, num_per_class=50, batch_size=batch_size, zero_centered=True))\n",
    "test_num = len(testloader_small)\n",
    "print(\"Finish loading %d minibatches (batch_size=%d) of testing samples.\" % (test_num, batch_size))"
   ]
  },
  {
   "cell_type": "code",
   "execution_count": 35,
   "metadata": {
    "colab": {},
    "colab_type": "code",
    "id": "clXaGdwaoIL7"
   },
   "outputs": [],
   "source": [
    "#--------------------------------------------------\n",
    "#       Define Network Architecture\n",
    "#--------------------------------------------------\n",
    "class TNet(nn.Module):\n",
    "    def __init__(self):\n",
    "      super(TNet,self).__init__()  \n",
    "           \n",
    "      self.features = torch.nn.Sequential(\n",
    "        nn.Conv2d(1, 16, 3),\n",
    "        nn.ReLU(),\n",
    "        nn.MaxPool2d(4, stride=4), \n",
    "        nn.Dropout(0.5)\n",
    "      )\n",
    "      \n",
    "      self.classifier = nn.Sequential(\n",
    "         nn.Linear(3600, 16) \n",
    "      )\n",
    "            \n",
    "    def forward(self, x):\n",
    "      x = self.features(x)  \n",
    "      x = torch.flatten(x, 1)\n",
    "      x = self.classifier(x)\n",
    "      return x  "
   ]
  },
  {
   "cell_type": "code",
   "execution_count": 38,
   "metadata": {
    "colab": {},
    "colab_type": "code",
    "id": "-Tj73gVp8gN7"
   },
   "outputs": [
    {
     "name": "stdout",
     "output_type": "stream",
     "text": [
      "Epoch: 1 | Iter:    0 | Time: 00:00:00 | Train Loss: 2.9527 | Average Loss: 2.9527 \n",
      "Epoch: 1 | Iter:   20 | Time: 00:00:00 | Train Loss: 2.6321 | Average Loss: 2.7479 \n",
      "Epoch: 1 | Iter:   40 | Time: 00:00:01 | Train Loss: 2.3875 | Average Loss: 2.5338 \n",
      "Epoch: 1 | Iter:   60 | Time: 00:00:02 | Train Loss: 1.9741 | Average Loss: 2.3975 \n",
      "Accuracy: 0.414062 | Time: 00:00:00\n",
      "Epoch: 2 | Iter:    0 | Time: 00:00:02 | Train Loss: 1.8411 | Average Loss: 2.3058 \n",
      "Epoch: 2 | Iter:   20 | Time: 00:00:03 | Train Loss: 1.7654 | Average Loss: 2.1842 \n",
      "Epoch: 2 | Iter:   40 | Time: 00:00:04 | Train Loss: 1.6114 | Average Loss: 2.0914 \n",
      "Epoch: 2 | Iter:   60 | Time: 00:00:04 | Train Loss: 1.5771 | Average Loss: 2.0268 \n",
      "Accuracy: 0.463542 | Time: 00:00:00\n",
      "Epoch: 3 | Iter:    0 | Time: 00:00:05 | Train Loss: 1.3570 | Average Loss: 1.9800 \n",
      "Epoch: 3 | Iter:   20 | Time: 00:00:06 | Train Loss: 1.5932 | Average Loss: 1.9141 \n",
      "Epoch: 3 | Iter:   40 | Time: 00:00:07 | Train Loss: 1.2152 | Average Loss: 1.8552 \n",
      "Epoch: 3 | Iter:   60 | Time: 00:00:07 | Train Loss: 1.1732 | Average Loss: 1.8081 \n",
      "Accuracy: 0.486979 | Time: 00:00:00\n",
      "Epoch: 4 | Iter:    0 | Time: 00:00:08 | Train Loss: 1.3019 | Average Loss: 1.7747 \n",
      "Epoch: 4 | Iter:   20 | Time: 00:00:09 | Train Loss: 1.2940 | Average Loss: 1.7299 \n",
      "Epoch: 4 | Iter:   40 | Time: 00:00:09 | Train Loss: 1.2677 | Average Loss: 1.6872 \n",
      "Epoch: 4 | Iter:   60 | Time: 00:00:10 | Train Loss: 1.1219 | Average Loss: 1.6533 \n",
      "Accuracy: 0.513021 | Time: 00:00:00\n",
      "Epoch: 5 | Iter:    0 | Time: 00:00:11 | Train Loss: 1.1543 | Average Loss: 1.6309 \n",
      "Epoch: 5 | Iter:   20 | Time: 00:00:12 | Train Loss: 1.0714 | Average Loss: 1.5981 \n",
      "Epoch: 5 | Iter:   40 | Time: 00:00:12 | Train Loss: 0.9923 | Average Loss: 1.5690 \n",
      "Epoch: 5 | Iter:   60 | Time: 00:00:13 | Train Loss: 1.1621 | Average Loss: 1.5454 \n",
      "Accuracy: 0.507812 | Time: 00:00:00\n",
      "Epoch: 6 | Iter:    0 | Time: 00:00:14 | Train Loss: 1.0524 | Average Loss: 1.5253 \n",
      "Epoch: 6 | Iter:   20 | Time: 00:00:14 | Train Loss: 1.0319 | Average Loss: 1.4987 \n",
      "Epoch: 6 | Iter:   40 | Time: 00:00:15 | Train Loss: 0.8985 | Average Loss: 1.4741 \n",
      "Epoch: 6 | Iter:   60 | Time: 00:00:16 | Train Loss: 1.0562 | Average Loss: 1.4537 \n",
      "Accuracy: 0.520833 | Time: 00:00:00\n",
      "Epoch: 7 | Iter:    0 | Time: 00:00:16 | Train Loss: 1.0870 | Average Loss: 1.4387 \n",
      "Epoch: 7 | Iter:   20 | Time: 00:00:17 | Train Loss: 1.2109 | Average Loss: 1.4182 \n",
      "Epoch: 7 | Iter:   40 | Time: 00:00:18 | Train Loss: 0.9832 | Average Loss: 1.3984 \n",
      "Epoch: 7 | Iter:   60 | Time: 00:00:19 | Train Loss: 0.8189 | Average Loss: 1.3815 \n",
      "Accuracy: 0.513021 | Time: 00:00:00\n",
      "Epoch: 8 | Iter:    0 | Time: 00:00:19 | Train Loss: 0.9840 | Average Loss: 1.3680 \n",
      "Epoch: 8 | Iter:   20 | Time: 00:00:20 | Train Loss: 0.9596 | Average Loss: 1.3514 \n",
      "Epoch: 8 | Iter:   40 | Time: 00:00:20 | Train Loss: 0.7741 | Average Loss: 1.3332 \n",
      "Epoch: 8 | Iter:   60 | Time: 00:00:21 | Train Loss: 0.6603 | Average Loss: 1.3190 \n",
      "Accuracy: 0.507812 | Time: 00:00:00\n",
      "Epoch: 9 | Iter:    0 | Time: 00:00:22 | Train Loss: 0.7899 | Average Loss: 1.3083 \n",
      "Epoch: 9 | Iter:   20 | Time: 00:00:22 | Train Loss: 0.8868 | Average Loss: 1.2936 \n",
      "Epoch: 9 | Iter:   40 | Time: 00:00:23 | Train Loss: 0.7343 | Average Loss: 1.2795 \n",
      "Epoch: 9 | Iter:   60 | Time: 00:00:24 | Train Loss: 0.9283 | Average Loss: 1.2670 \n",
      "Accuracy: 0.515625 | Time: 00:00:00\n",
      "Epoch:10 | Iter:    0 | Time: 00:00:24 | Train Loss: 1.0135 | Average Loss: 1.2582 \n",
      "Epoch:10 | Iter:   20 | Time: 00:00:25 | Train Loss: 0.8685 | Average Loss: 1.2464 \n",
      "Epoch:10 | Iter:   40 | Time: 00:00:26 | Train Loss: 0.8155 | Average Loss: 1.2341 \n",
      "Epoch:10 | Iter:   60 | Time: 00:00:26 | Train Loss: 0.6046 | Average Loss: 1.2234 \n",
      "Accuracy: 0.515625 | Time: 00:00:00\n",
      "Epoch:11 | Iter:    0 | Time: 00:00:27 | Train Loss: 0.9306 | Average Loss: 1.2148 \n",
      "Epoch:11 | Iter:   20 | Time: 00:00:28 | Train Loss: 0.8907 | Average Loss: 1.2053 \n",
      "Epoch:11 | Iter:   40 | Time: 00:00:28 | Train Loss: 0.6553 | Average Loss: 1.1941 \n",
      "Epoch:11 | Iter:   60 | Time: 00:00:29 | Train Loss: 0.6613 | Average Loss: 1.1853 \n",
      "Accuracy: 0.533854 | Time: 00:00:00\n",
      "Epoch:12 | Iter:    0 | Time: 00:00:30 | Train Loss: 1.0467 | Average Loss: 1.1781 \n",
      "Epoch:12 | Iter:   20 | Time: 00:00:30 | Train Loss: 1.2246 | Average Loss: 1.1688 \n",
      "Epoch:12 | Iter:   40 | Time: 00:00:31 | Train Loss: 0.6306 | Average Loss: 1.1596 \n",
      "Epoch:12 | Iter:   60 | Time: 00:00:32 | Train Loss: 0.6072 | Average Loss: 1.1511 \n",
      "Accuracy: 0.536458 | Time: 00:00:00\n",
      "Epoch:13 | Iter:    0 | Time: 00:00:32 | Train Loss: 0.8821 | Average Loss: 1.1442 \n",
      "Epoch:13 | Iter:   20 | Time: 00:00:33 | Train Loss: 0.8359 | Average Loss: 1.1363 \n",
      "Epoch:13 | Iter:   40 | Time: 00:00:34 | Train Loss: 0.6784 | Average Loss: 1.1273 \n",
      "Epoch:13 | Iter:   60 | Time: 00:00:34 | Train Loss: 0.6034 | Average Loss: 1.1197 \n",
      "Accuracy: 0.557292 | Time: 00:00:00\n",
      "Epoch:14 | Iter:    0 | Time: 00:00:35 | Train Loss: 0.8728 | Average Loss: 1.1137 \n",
      "Epoch:14 | Iter:   20 | Time: 00:00:36 | Train Loss: 0.8830 | Average Loss: 1.1064 \n",
      "Epoch:14 | Iter:   40 | Time: 00:00:36 | Train Loss: 0.6656 | Average Loss: 1.0986 \n",
      "Epoch:14 | Iter:   60 | Time: 00:00:37 | Train Loss: 0.4992 | Average Loss: 1.0915 \n",
      "Accuracy: 0.544271 | Time: 00:00:00\n",
      "Epoch:15 | Iter:    0 | Time: 00:00:37 | Train Loss: 0.8555 | Average Loss: 1.0857 \n",
      "Epoch:15 | Iter:   20 | Time: 00:00:38 | Train Loss: 0.7850 | Average Loss: 1.0789 \n",
      "Epoch:15 | Iter:   40 | Time: 00:00:39 | Train Loss: 0.5600 | Average Loss: 1.0711 \n",
      "Epoch:15 | Iter:   60 | Time: 00:00:40 | Train Loss: 0.5276 | Average Loss: 1.0643 \n",
      "Accuracy: 0.562500 | Time: 00:00:00\n",
      "Epoch:16 | Iter:    0 | Time: 00:00:40 | Train Loss: 0.6683 | Average Loss: 1.0588 \n",
      "Epoch:16 | Iter:   20 | Time: 00:00:41 | Train Loss: 0.9846 | Average Loss: 1.0523 \n",
      "Epoch:16 | Iter:   40 | Time: 00:00:41 | Train Loss: 0.5679 | Average Loss: 1.0450 \n",
      "Epoch:16 | Iter:   60 | Time: 00:00:42 | Train Loss: 0.5017 | Average Loss: 1.0385 \n",
      "Accuracy: 0.554688 | Time: 00:00:00\n",
      "Epoch:17 | Iter:    0 | Time: 00:00:43 | Train Loss: 0.5122 | Average Loss: 1.0328 \n",
      "Epoch:17 | Iter:   20 | Time: 00:00:43 | Train Loss: 0.7369 | Average Loss: 1.0273 \n",
      "Epoch:17 | Iter:   40 | Time: 00:00:44 | Train Loss: 0.7368 | Average Loss: 1.0209 \n",
      "Epoch:17 | Iter:   60 | Time: 00:00:45 | Train Loss: 0.4939 | Average Loss: 1.0154 \n",
      "Accuracy: 0.567708 | Time: 00:00:00\n",
      "Epoch:18 | Iter:    0 | Time: 00:00:45 | Train Loss: 0.6859 | Average Loss: 1.0114 \n",
      "Epoch:18 | Iter:   20 | Time: 00:00:46 | Train Loss: 0.7024 | Average Loss: 1.0062 \n",
      "Epoch:18 | Iter:   40 | Time: 00:00:47 | Train Loss: 0.6510 | Average Loss: 1.0003 \n",
      "Epoch:18 | Iter:   60 | Time: 00:00:47 | Train Loss: 0.4618 | Average Loss: 0.9950 \n",
      "Accuracy: 0.562500 | Time: 00:00:00\n",
      "Epoch:19 | Iter:    0 | Time: 00:00:48 | Train Loss: 0.5799 | Average Loss: 0.9904 \n",
      "Epoch:19 | Iter:   20 | Time: 00:00:49 | Train Loss: 0.5958 | Average Loss: 0.9849 \n",
      "Epoch:19 | Iter:   40 | Time: 00:00:49 | Train Loss: 0.5891 | Average Loss: 0.9792 \n",
      "Epoch:19 | Iter:   60 | Time: 00:00:50 | Train Loss: 0.4854 | Average Loss: 0.9743 \n",
      "Accuracy: 0.546875 | Time: 00:00:00\n",
      "Epoch:20 | Iter:    0 | Time: 00:00:51 | Train Loss: 0.5748 | Average Loss: 0.9705 \n",
      "Epoch:20 | Iter:   20 | Time: 00:00:51 | Train Loss: 0.9407 | Average Loss: 0.9657 \n",
      "Epoch:20 | Iter:   40 | Time: 00:00:52 | Train Loss: 0.5954 | Average Loss: 0.9605 \n",
      "Epoch:20 | Iter:   60 | Time: 00:00:53 | Train Loss: 0.5501 | Average Loss: 0.9559 \n",
      "Accuracy: 0.572917 | Time: 00:00:00\n"
     ]
    }
   ],
   "source": [
    "#--------------------------------------------------\n",
    "#       Start Training & Evaluation\n",
    "#--------------------------------------------------\n",
    "net = TNet() \n",
    "train_option = {}\n",
    "train_option['lr'] = 0.002\n",
    "train_option['epoch'] = 20\n",
    "train_option['device'] = 'gpu'\n",
    "trainModel(net, trainloader_small, train_option, testloader_small)"
   ]
  },
  {
   "cell_type": "markdown",
   "metadata": {
    "colab_type": "text",
    "id": "WwDpNw03ELy9"
   },
   "source": [
    "**Answer**:\n",
    "\n",
    "Data augmentation: Using np.flip along 0 axis, creating a mirror image.\n",
    "\n",
    "Data normalization: Calculated and subtracted mean.\n",
    "\n",
    "Layer 1: Convolution Layer with param 1 input channel ,16 intermediate channels,kernel size 3\n",
    "\n",
    "Layer 2: ReLU layer\n",
    "\n",
    "Layer 3: Pooling layer with kernel size 4, stride 4\n",
    "\n",
    "Layer 4: Dropout Layer: dropout rate = 0.5\n",
    "\n",
    "Layer 5: Linear Layer: input = 3600 features, output = 16 featrures\n",
    "\n",
    "\n",
    "Accuray on test set: 0.572917\n"
   ]
  },
  {
   "cell_type": "markdown",
   "metadata": {
    "colab_type": "text",
    "id": "6RG-72WSzVEp"
   },
   "source": [
    "## Problem 1.2\n",
    "\n",
    "(15 points) Try **three different techniques** taught in the class to increase the accuracy of your model. Such as increasing training data by randomly rotating training images, adding batch normalization, different activation functions (e.g., sigmoid) and model architecture modification. Note that too many layers can do you no good due to insufficient training data. Clearly describe your method and accuracy increase/decrease for each of the three techniques.\n",
    "\n",
    "The minimum accuracy required for this section is **0.60**. (At least one Technique should achieve this)\n",
    "\n",
    "### Technique 1"
   ]
  },
  {
   "cell_type": "code",
   "execution_count": 8,
   "metadata": {
    "colab": {},
    "colab_type": "code",
    "id": "Rq6mIYHMfUcv"
   },
   "outputs": [
    {
     "name": "stdout",
     "output_type": "stream",
     "text": [
      "Loading images from class: 0\n",
      "Loading images from class: 1\n"
     ]
    },
    {
     "name": "stderr",
     "output_type": "stream",
     "text": [
      "/var/folders/pk/yh0zm7715z35f7sw6344hj340000gn/T/ipykernel_1388/135866193.py:43: DeprecationWarning: `np.float` is a deprecated alias for the builtin `float`. To silence this warning, use `float` by itself. Doing this will not modify any behavior and is safe. If you specifically wanted the numpy scalar type, use `np.float64` here.\n",
      "Deprecated in NumPy 1.20; for more details and guidance: https://numpy.org/devdocs/release/1.20.0-notes.html#deprecations\n",
      "  data.append(img.astype(np.float)/255*2-1)\n"
     ]
    },
    {
     "name": "stdout",
     "output_type": "stream",
     "text": [
      "Loading images from class: 2\n",
      "Loading images from class: 3\n",
      "Loading images from class: 4\n",
      "Loading images from class: 5\n",
      "Loading images from class: 6\n",
      "Loading images from class: 7\n",
      "Loading images from class: 8\n",
      "Loading images from class: 9\n",
      "Loading images from class: 10\n",
      "Loading images from class: 11\n",
      "Loading images from class: 12\n",
      "Loading images from class: 13\n",
      "Loading images from class: 14\n",
      "Loading images from class: 15\n",
      "Finish loading 37 minibatches (batch_size=64) of training samples.\n",
      "Loading images from class: 0\n",
      "Loading images from class: 1\n",
      "Loading images from class: 2\n",
      "Loading images from class: 3\n",
      "Loading images from class: 4\n",
      "Loading images from class: 5\n",
      "Loading images from class: 6\n",
      "Loading images from class: 7\n",
      "Loading images from class: 8\n",
      "Loading images from class: 9\n",
      "Loading images from class: 10\n",
      "Loading images from class: 11\n",
      "Loading images from class: 12\n",
      "Loading images from class: 13\n",
      "Loading images from class: 14\n",
      "Loading images from class: 15\n",
      "Finish loading 6 minibatches (batch_size=64) of testing samples.\n"
     ]
    }
   ],
   "source": [
    "#--------------------------------------------------\n",
    "#    Load Training Data and Testing Data\n",
    "#--------------------------------------------------\n",
    "\n",
    "# load data into size (64, 64)\n",
    "img_size = (64, 64)\n",
    "batch_size = 64 # training sample number per batch\n",
    "\n",
    "# load training dataset\n",
    "trainloader_small = list(load_dataset('./data/train/', img_size, batch_size=batch_size, shuffle=True))\n",
    "train_num = len(trainloader_small)\n",
    "print(\"Finish loading %d minibatches (batch_size=%d) of training samples.\" % (train_num, batch_size))\n",
    "\n",
    "# load testing dataset\n",
    "testloader_small = list(load_dataset('./data/test/', img_size, num_per_class=50, batch_size=batch_size))\n",
    "test_num = len(testloader_small)\n",
    "print(\"Finish loading %d minibatches (batch_size=%d) of testing samples.\" % (test_num, batch_size))"
   ]
  },
  {
   "cell_type": "code",
   "execution_count": 44,
   "metadata": {
    "colab": {},
    "colab_type": "code",
    "id": "qhdvKxQoSpKw"
   },
   "outputs": [],
   "source": [
    "#--------------------------------------------------\n",
    "#       Define Network Architecture\n",
    "#--------------------------------------------------\n",
    "class TNet(nn.Module):\n",
    "    def __init__(self):\n",
    "      super(TNet,self).__init__()  \n",
    "           \n",
    "      self.features = torch.nn.Sequential(\n",
    "        nn.Conv2d(1, 16, 3),\n",
    "        nn.ReLU(),\n",
    "        nn.MaxPool2d(4, stride=4),\n",
    "        nn.Dropout(0.5),\n",
    "\n",
    "        nn.Conv2d(16, 64, 3),\n",
    "        nn.BatchNorm2d(64),\n",
    "        nn.MaxPool2d(4, stride=4)\n",
    "      )\n",
    "      \n",
    "      self.classifier = nn.Sequential(\n",
    "         nn.Linear(576, 64),\n",
    "      )\n",
    "            \n",
    "    def forward(self, x):\n",
    "      x = self.features(x)  \n",
    "      x = torch.flatten(x, 1)\n",
    "      x = self.classifier(x)\n",
    "      return x  "
   ]
  },
  {
   "cell_type": "code",
   "execution_count": 45,
   "metadata": {
    "colab": {},
    "colab_type": "code",
    "id": "_T2UG90ATZ3K"
   },
   "outputs": [
    {
     "name": "stdout",
     "output_type": "stream",
     "text": [
      "Epoch: 1 | Iter:    0 | Time: 00:00:00 | Train Loss: 4.8680 | Average Loss: 4.8680 \n",
      "Epoch: 1 | Iter:   20 | Time: 00:00:01 | Train Loss: 2.7194 | Average Loss: 3.0075 \n",
      "Accuracy: 0.239583 | Time: 00:00:00\n",
      "Epoch: 2 | Iter:    0 | Time: 00:00:02 | Train Loss: 2.5555 | Average Loss: 2.7868 \n",
      "Epoch: 2 | Iter:   20 | Time: 00:00:03 | Train Loss: 2.2114 | Average Loss: 2.6237 \n",
      "Accuracy: 0.296875 | Time: 00:00:00\n",
      "Epoch: 3 | Iter:    0 | Time: 00:00:03 | Train Loss: 2.4237 | Average Loss: 2.5326 \n",
      "Epoch: 3 | Iter:   20 | Time: 00:00:04 | Train Loss: 1.9297 | Average Loss: 2.4448 \n",
      "Accuracy: 0.322917 | Time: 00:00:00\n",
      "Epoch: 4 | Iter:    0 | Time: 00:00:05 | Train Loss: 2.2539 | Average Loss: 2.3854 \n",
      "Epoch: 4 | Iter:   20 | Time: 00:00:06 | Train Loss: 1.7062 | Average Loss: 2.3260 \n",
      "Accuracy: 0.369792 | Time: 00:00:00\n",
      "Epoch: 5 | Iter:    0 | Time: 00:00:07 | Train Loss: 2.0587 | Average Loss: 2.2796 \n",
      "Epoch: 5 | Iter:   20 | Time: 00:00:08 | Train Loss: 1.5951 | Average Loss: 2.2248 \n",
      "Accuracy: 0.429688 | Time: 00:00:00\n",
      "Epoch: 6 | Iter:    0 | Time: 00:00:09 | Train Loss: 1.8782 | Average Loss: 2.1792 \n",
      "Epoch: 6 | Iter:   20 | Time: 00:00:10 | Train Loss: 1.3869 | Average Loss: 2.1271 \n",
      "Accuracy: 0.471354 | Time: 00:00:00\n",
      "Epoch: 7 | Iter:    0 | Time: 00:00:11 | Train Loss: 1.7044 | Average Loss: 2.0885 \n",
      "Epoch: 7 | Iter:   20 | Time: 00:00:12 | Train Loss: 1.2418 | Average Loss: 2.0436 \n",
      "Accuracy: 0.513021 | Time: 00:00:00\n",
      "Epoch: 8 | Iter:    0 | Time: 00:00:13 | Train Loss: 1.5733 | Average Loss: 2.0085 \n",
      "Epoch: 8 | Iter:   20 | Time: 00:00:14 | Train Loss: 1.1612 | Average Loss: 1.9690 \n",
      "Accuracy: 0.505208 | Time: 00:00:00\n",
      "Epoch: 9 | Iter:    0 | Time: 00:00:15 | Train Loss: 1.5160 | Average Loss: 1.9374 \n",
      "Epoch: 9 | Iter:   20 | Time: 00:00:16 | Train Loss: 0.9567 | Average Loss: 1.9010 \n",
      "Accuracy: 0.510417 | Time: 00:00:00\n",
      "Epoch:10 | Iter:    0 | Time: 00:00:17 | Train Loss: 1.3227 | Average Loss: 1.8722 \n",
      "Epoch:10 | Iter:   20 | Time: 00:00:18 | Train Loss: 0.9043 | Average Loss: 1.8386 \n",
      "Accuracy: 0.552083 | Time: 00:00:00\n",
      "Epoch:11 | Iter:    0 | Time: 00:00:19 | Train Loss: 1.2991 | Average Loss: 1.8137 \n",
      "Epoch:11 | Iter:   20 | Time: 00:00:19 | Train Loss: 0.9511 | Average Loss: 1.7828 \n",
      "Accuracy: 0.583333 | Time: 00:00:00\n",
      "Epoch:12 | Iter:    0 | Time: 00:00:20 | Train Loss: 1.2791 | Average Loss: 1.7589 \n",
      "Epoch:12 | Iter:   20 | Time: 00:00:21 | Train Loss: 0.8536 | Average Loss: 1.7328 \n",
      "Accuracy: 0.559896 | Time: 00:00:00\n",
      "Epoch:13 | Iter:    0 | Time: 00:00:22 | Train Loss: 1.2302 | Average Loss: 1.7124 \n",
      "Epoch:13 | Iter:   20 | Time: 00:00:23 | Train Loss: 0.8295 | Average Loss: 1.6870 \n",
      "Accuracy: 0.572917 | Time: 00:00:00\n",
      "Epoch:14 | Iter:    0 | Time: 00:00:24 | Train Loss: 1.2751 | Average Loss: 1.6684 \n",
      "Epoch:14 | Iter:   20 | Time: 00:00:25 | Train Loss: 0.7906 | Average Loss: 1.6459 \n",
      "Accuracy: 0.591146 | Time: 00:00:00\n",
      "Epoch:15 | Iter:    0 | Time: 00:00:26 | Train Loss: 1.1987 | Average Loss: 1.6289 \n",
      "Epoch:15 | Iter:   20 | Time: 00:00:27 | Train Loss: 0.7857 | Average Loss: 1.6087 \n",
      "Accuracy: 0.585938 | Time: 00:00:00\n",
      "Epoch:16 | Iter:    0 | Time: 00:00:28 | Train Loss: 1.0601 | Average Loss: 1.5924 \n",
      "Epoch:16 | Iter:   20 | Time: 00:00:29 | Train Loss: 0.7859 | Average Loss: 1.5746 \n",
      "Accuracy: 0.596354 | Time: 00:00:00\n",
      "Epoch:17 | Iter:    0 | Time: 00:00:30 | Train Loss: 1.0204 | Average Loss: 1.5607 \n",
      "Epoch:17 | Iter:   20 | Time: 00:00:31 | Train Loss: 0.6786 | Average Loss: 1.5429 \n",
      "Accuracy: 0.622396 | Time: 00:00:00\n",
      "Epoch:18 | Iter:    0 | Time: 00:00:31 | Train Loss: 1.0481 | Average Loss: 1.5297 \n",
      "Epoch:18 | Iter:   20 | Time: 00:00:32 | Train Loss: 0.8101 | Average Loss: 1.5128 \n",
      "Accuracy: 0.601562 | Time: 00:00:00\n",
      "Epoch:19 | Iter:    0 | Time: 00:00:33 | Train Loss: 1.0088 | Average Loss: 1.5006 \n",
      "Epoch:19 | Iter:   20 | Time: 00:00:34 | Train Loss: 0.6753 | Average Loss: 1.4864 \n",
      "Accuracy: 0.617188 | Time: 00:00:00\n",
      "Epoch:20 | Iter:    0 | Time: 00:00:35 | Train Loss: 0.9227 | Average Loss: 1.4749 \n",
      "Epoch:20 | Iter:   20 | Time: 00:00:36 | Train Loss: 0.7418 | Average Loss: 1.4618 \n",
      "Accuracy: 0.625000 | Time: 00:00:00\n"
     ]
    }
   ],
   "source": [
    "#--------------------------------------------------\n",
    "#       Start Training & Evaluation\n",
    "#--------------------------------------------------\n",
    "net = TNet() \n",
    "train_option = {}\n",
    "train_option['lr'] = 0.002\n",
    "train_option['epoch'] = 20\n",
    "train_option['device'] = 'gpu'\n",
    "trainModel(net, trainloader_small, train_option, testloader_small)"
   ]
  },
  {
   "cell_type": "markdown",
   "metadata": {
    "colab_type": "text",
    "id": "MxlW_6DqLzmM"
   },
   "source": [
    "**Answer**:\n",
    "\n",
    "Technique 1: Added batch normalization\n",
    "\n",
    "Accuracy on test set: 0.625000\n",
    "\n",
    "Accuracy increases/decreases: increases"
   ]
  },
  {
   "cell_type": "markdown",
   "metadata": {
    "colab_type": "text",
    "id": "IkePS4VnHnZO"
   },
   "source": [
    "### Technique 2"
   ]
  },
  {
   "cell_type": "code",
   "execution_count": 35,
   "metadata": {
    "colab": {},
    "colab_type": "code",
    "id": "lgzhiz12fXjj"
   },
   "outputs": [
    {
     "name": "stdout",
     "output_type": "stream",
     "text": [
      "Loading images from class: 0\n",
      "Loading images from class: 1\n"
     ]
    },
    {
     "name": "stderr",
     "output_type": "stream",
     "text": [
      "/var/folders/pk/yh0zm7715z35f7sw6344hj340000gn/T/ipykernel_1388/135866193.py:43: DeprecationWarning: `np.float` is a deprecated alias for the builtin `float`. To silence this warning, use `float` by itself. Doing this will not modify any behavior and is safe. If you specifically wanted the numpy scalar type, use `np.float64` here.\n",
      "Deprecated in NumPy 1.20; for more details and guidance: https://numpy.org/devdocs/release/1.20.0-notes.html#deprecations\n",
      "  data.append(img.astype(np.float)/255*2-1)\n"
     ]
    },
    {
     "name": "stdout",
     "output_type": "stream",
     "text": [
      "Loading images from class: 2\n",
      "Loading images from class: 3\n",
      "Loading images from class: 4\n",
      "Loading images from class: 5\n",
      "Loading images from class: 6\n",
      "Loading images from class: 7\n",
      "Loading images from class: 8\n",
      "Loading images from class: 9\n",
      "Loading images from class: 10\n",
      "Loading images from class: 11\n",
      "Loading images from class: 12\n",
      "Loading images from class: 13\n",
      "Loading images from class: 14\n",
      "Loading images from class: 15\n",
      "Finish loading 37 minibatches (batch_size=64) of training samples.\n",
      "Loading images from class: 0\n",
      "Loading images from class: 1\n",
      "Loading images from class: 2\n",
      "Loading images from class: 3\n",
      "Loading images from class: 4\n",
      "Loading images from class: 5\n",
      "Loading images from class: 6\n",
      "Loading images from class: 7\n",
      "Loading images from class: 8\n",
      "Loading images from class: 9\n",
      "Loading images from class: 10\n",
      "Loading images from class: 11\n",
      "Loading images from class: 12\n",
      "Loading images from class: 13\n",
      "Loading images from class: 14\n",
      "Loading images from class: 15\n",
      "Finish loading 6 minibatches (batch_size=64) of testing samples.\n"
     ]
    }
   ],
   "source": [
    "#--------------------------------------------------\n",
    "#    Load Training Data and Testing Data\n",
    "#--------------------------------------------------\n",
    "# load data into size (64, 64)\n",
    "img_size = (64, 64)\n",
    "batch_size = 64 # training sample number per batch\n",
    "\n",
    "# load training dataset\n",
    "trainloader_small = list(load_dataset('./data/train/', img_size, batch_size=batch_size, shuffle=True))\n",
    "train_num = len(trainloader_small)\n",
    "print(\"Finish loading %d minibatches (batch_size=%d) of training samples.\" % (train_num, batch_size))\n",
    "\n",
    "# load testing dataset\n",
    "testloader_small = list(load_dataset('./data/test/', img_size, num_per_class=50, batch_size=batch_size))\n",
    "test_num = len(testloader_small)\n",
    "print(\"Finish loading %d minibatches (batch_size=%d) of testing samples.\" % (test_num, batch_size))"
   ]
  },
  {
   "cell_type": "code",
   "execution_count": 48,
   "metadata": {
    "colab": {},
    "colab_type": "code",
    "id": "j5ozpyI0T8aE"
   },
   "outputs": [],
   "source": [
    "#--------------------------------------------------\n",
    "#       Define Network Architecture\n",
    "#--------------------------------------------------\n",
    "class TNet(nn.Module):\n",
    "    def __init__(self):\n",
    "      super(TNet,self).__init__()  \n",
    "           \n",
    "      self.features = torch.nn.Sequential(\n",
    "        nn.Conv2d(1, 64, 3),\n",
    "        nn.ReLU(),\n",
    "        nn.MaxPool2d(4, stride=4), \n",
    "        nn.Dropout(0.5),\n",
    "\n",
    "        nn.Conv2d(64, 128, 3),\n",
    "        nn.Sigmoid(),\n",
    "        nn.MaxPool2d(4, stride=4),\n",
    "      )\n",
    "      \n",
    "      self.classifier = nn.Sequential(\n",
    "         nn.Linear(1152, 128), \n",
    "      )\n",
    "      \n",
    "    def forward(self, x):\n",
    "      x = self.features(x)  \n",
    "      x = torch.flatten(x, 1)\n",
    "      x = self.classifier(x)\n",
    "      return x  "
   ]
  },
  {
   "cell_type": "code",
   "execution_count": 49,
   "metadata": {
    "colab": {},
    "colab_type": "code",
    "id": "sdy9SRdFsyWZ"
   },
   "outputs": [
    {
     "name": "stdout",
     "output_type": "stream",
     "text": [
      "Epoch: 1 | Iter:    0 | Time: 00:00:00 | Train Loss: 4.9063 | Average Loss: 4.9063 \n",
      "Epoch: 1 | Iter:   20 | Time: 00:00:04 | Train Loss: 2.8341 | Average Loss: 3.0193 \n",
      "Accuracy: 0.143229 | Time: 00:00:00\n",
      "Epoch: 2 | Iter:    0 | Time: 00:00:09 | Train Loss: 2.6218 | Average Loss: 2.8805 \n",
      "Epoch: 2 | Iter:   20 | Time: 00:00:13 | Train Loss: 2.3303 | Average Loss: 2.7629 \n",
      "Accuracy: 0.203125 | Time: 00:00:00\n",
      "Epoch: 3 | Iter:    0 | Time: 00:00:17 | Train Loss: 2.5081 | Average Loss: 2.6816 \n",
      "Epoch: 3 | Iter:   20 | Time: 00:00:22 | Train Loss: 1.9970 | Average Loss: 2.5891 \n",
      "Accuracy: 0.294271 | Time: 00:00:00\n",
      "Epoch: 4 | Iter:    0 | Time: 00:00:26 | Train Loss: 2.3832 | Average Loss: 2.5262 \n",
      "Epoch: 4 | Iter:   20 | Time: 00:00:30 | Train Loss: 1.7475 | Average Loss: 2.4525 \n",
      "Accuracy: 0.343750 | Time: 00:00:00\n",
      "Epoch: 5 | Iter:    0 | Time: 00:00:34 | Train Loss: 2.2094 | Average Loss: 2.3996 \n",
      "Epoch: 5 | Iter:   20 | Time: 00:00:38 | Train Loss: 1.5471 | Average Loss: 2.3365 \n",
      "Accuracy: 0.395833 | Time: 00:00:00\n",
      "Epoch: 6 | Iter:    0 | Time: 00:00:43 | Train Loss: 2.0360 | Average Loss: 2.2890 \n",
      "Epoch: 6 | Iter:   20 | Time: 00:00:47 | Train Loss: 1.4100 | Average Loss: 2.2331 \n",
      "Accuracy: 0.442708 | Time: 00:00:00\n",
      "Epoch: 7 | Iter:    0 | Time: 00:00:52 | Train Loss: 1.8541 | Average Loss: 2.1892 \n",
      "Epoch: 7 | Iter:   20 | Time: 00:00:57 | Train Loss: 1.2938 | Average Loss: 2.1390 \n",
      "Accuracy: 0.468750 | Time: 00:00:00\n",
      "Epoch: 8 | Iter:    0 | Time: 00:01:01 | Train Loss: 1.6588 | Average Loss: 2.0987 \n",
      "Epoch: 8 | Iter:   20 | Time: 00:01:06 | Train Loss: 1.2030 | Average Loss: 2.0533 \n",
      "Accuracy: 0.494792 | Time: 00:00:00\n",
      "Epoch: 9 | Iter:    0 | Time: 00:01:11 | Train Loss: 1.5678 | Average Loss: 2.0169 \n",
      "Epoch: 9 | Iter:   20 | Time: 00:01:15 | Train Loss: 1.1124 | Average Loss: 1.9752 \n",
      "Accuracy: 0.526042 | Time: 00:00:00\n",
      "Epoch:10 | Iter:    0 | Time: 00:01:20 | Train Loss: 1.4295 | Average Loss: 1.9424 \n",
      "Epoch:10 | Iter:   20 | Time: 00:01:25 | Train Loss: 1.0684 | Average Loss: 1.9050 \n",
      "Accuracy: 0.549479 | Time: 00:00:00\n",
      "Epoch:11 | Iter:    0 | Time: 00:01:29 | Train Loss: 1.3878 | Average Loss: 1.8750 \n",
      "Epoch:11 | Iter:   20 | Time: 00:01:34 | Train Loss: 0.9877 | Average Loss: 1.8409 \n",
      "Accuracy: 0.559896 | Time: 00:00:00\n",
      "Epoch:12 | Iter:    0 | Time: 00:01:38 | Train Loss: 1.2667 | Average Loss: 1.8126 \n",
      "Epoch:12 | Iter:   20 | Time: 00:01:42 | Train Loss: 0.9583 | Average Loss: 1.7811 \n",
      "Accuracy: 0.578125 | Time: 00:00:00\n",
      "Epoch:13 | Iter:    0 | Time: 00:01:46 | Train Loss: 1.2213 | Average Loss: 1.7557 \n",
      "Epoch:13 | Iter:   20 | Time: 00:01:51 | Train Loss: 0.8428 | Average Loss: 1.7266 \n",
      "Accuracy: 0.596354 | Time: 00:00:00\n",
      "Epoch:14 | Iter:    0 | Time: 00:01:55 | Train Loss: 1.0937 | Average Loss: 1.7022 \n",
      "Epoch:14 | Iter:   20 | Time: 00:01:59 | Train Loss: 0.8294 | Average Loss: 1.6748 \n",
      "Accuracy: 0.601562 | Time: 00:00:00\n",
      "Epoch:15 | Iter:    0 | Time: 00:02:03 | Train Loss: 1.0464 | Average Loss: 1.6520 \n",
      "Epoch:15 | Iter:   20 | Time: 00:02:08 | Train Loss: 0.7543 | Average Loss: 1.6268 \n",
      "Accuracy: 0.604167 | Time: 00:00:00\n",
      "Epoch:16 | Iter:    0 | Time: 00:02:14 | Train Loss: 0.9843 | Average Loss: 1.6057 \n",
      "Epoch:16 | Iter:   20 | Time: 00:02:19 | Train Loss: 0.7407 | Average Loss: 1.5820 \n",
      "Accuracy: 0.614583 | Time: 00:00:00\n",
      "Epoch:17 | Iter:    0 | Time: 00:02:23 | Train Loss: 0.9666 | Average Loss: 1.5624 \n",
      "Epoch:17 | Iter:   20 | Time: 00:02:28 | Train Loss: 0.7056 | Average Loss: 1.5401 \n",
      "Accuracy: 0.619792 | Time: 00:00:00\n",
      "Epoch:18 | Iter:    0 | Time: 00:02:32 | Train Loss: 0.8890 | Average Loss: 1.5214 \n",
      "Epoch:18 | Iter:   20 | Time: 00:02:37 | Train Loss: 0.6149 | Average Loss: 1.5001 \n",
      "Accuracy: 0.606771 | Time: 00:00:00\n",
      "Epoch:19 | Iter:    0 | Time: 00:02:41 | Train Loss: 0.8927 | Average Loss: 1.4831 \n",
      "Epoch:19 | Iter:   20 | Time: 00:02:46 | Train Loss: 0.6264 | Average Loss: 1.4633 \n",
      "Accuracy: 0.617188 | Time: 00:00:00\n",
      "Epoch:20 | Iter:    0 | Time: 00:02:50 | Train Loss: 0.8332 | Average Loss: 1.4466 \n",
      "Epoch:20 | Iter:   20 | Time: 00:02:54 | Train Loss: 0.6009 | Average Loss: 1.4280 \n",
      "Accuracy: 0.617188 | Time: 00:00:00\n"
     ]
    }
   ],
   "source": [
    "#--------------------------------------------------\n",
    "#       Start Training & Evaluation\n",
    "#--------------------------------------------------\n",
    "net = TNet() \n",
    "train_option = {}\n",
    "train_option['lr'] = 0.002\n",
    "train_option['epoch'] = 20\n",
    "train_option['device'] = 'gpu'\n",
    "trainModel(net, trainloader_small, train_option, testloader_small)"
   ]
  },
  {
   "cell_type": "markdown",
   "metadata": {
    "colab_type": "text",
    "id": "9VEgpH3eHOC3"
   },
   "source": [
    "**Answer**:\n",
    "\n",
    "Technique 2: Adding more layers with Sigmoid function\n",
    "\n",
    "Accuracy on test set: 0.617188\n",
    "\n",
    "Accuracy increases/decreases: increases"
   ]
  },
  {
   "cell_type": "markdown",
   "metadata": {
    "colab_type": "text",
    "id": "ZGgDlKIVH_wK"
   },
   "source": [
    "### Technique 3"
   ]
  },
  {
   "cell_type": "code",
   "execution_count": 50,
   "metadata": {
    "colab": {},
    "colab_type": "code",
    "id": "DKXeIjYIq65w"
   },
   "outputs": [
    {
     "name": "stdout",
     "output_type": "stream",
     "text": [
      "Loading images from class: 0\n"
     ]
    },
    {
     "name": "stderr",
     "output_type": "stream",
     "text": [
      "/var/folders/pk/yh0zm7715z35f7sw6344hj340000gn/T/ipykernel_1388/135866193.py:43: DeprecationWarning: `np.float` is a deprecated alias for the builtin `float`. To silence this warning, use `float` by itself. Doing this will not modify any behavior and is safe. If you specifically wanted the numpy scalar type, use `np.float64` here.\n",
      "Deprecated in NumPy 1.20; for more details and guidance: https://numpy.org/devdocs/release/1.20.0-notes.html#deprecations\n",
      "  data.append(img.astype(np.float)/255*2-1)\n"
     ]
    },
    {
     "name": "stdout",
     "output_type": "stream",
     "text": [
      "Loading images from class: 1\n",
      "Loading images from class: 2\n",
      "Loading images from class: 3\n",
      "Loading images from class: 4\n",
      "Loading images from class: 5\n",
      "Loading images from class: 6\n",
      "Loading images from class: 7\n",
      "Loading images from class: 8\n",
      "Loading images from class: 9\n",
      "Loading images from class: 10\n",
      "Loading images from class: 11\n",
      "Loading images from class: 12\n",
      "Loading images from class: 13\n",
      "Loading images from class: 14\n",
      "Loading images from class: 15\n",
      "Finish loading 37 minibatches (batch_size=64) of training samples.\n",
      "Loading images from class: 0\n",
      "Loading images from class: 1\n",
      "Loading images from class: 2\n",
      "Loading images from class: 3\n",
      "Loading images from class: 4\n",
      "Loading images from class: 5\n",
      "Loading images from class: 6\n",
      "Loading images from class: 7\n",
      "Loading images from class: 8\n",
      "Loading images from class: 9\n",
      "Loading images from class: 10\n",
      "Loading images from class: 11\n",
      "Loading images from class: 12\n",
      "Loading images from class: 13\n",
      "Loading images from class: 14\n",
      "Loading images from class: 15\n",
      "Finish loading 6 minibatches (batch_size=64) of testing samples.\n"
     ]
    }
   ],
   "source": [
    "#--------------------------------------------------\n",
    "#    Load Training Data and Testing Data\n",
    "#--------------------------------------------------\n",
    "# load data into size (64, 64)\n",
    "img_size = (64, 64)\n",
    "batch_size = 64 # training sample number per batch\n",
    "\n",
    "# load training dataset\n",
    "trainloader_small = list(load_dataset('./data/train/', img_size, batch_size=batch_size, shuffle=True))\n",
    "train_num = len(trainloader_small)\n",
    "print(\"Finish loading %d minibatches (batch_size=%d) of training samples.\" % (train_num, batch_size))\n",
    "\n",
    "# load testing dataset\n",
    "testloader_small = list(load_dataset('./data/test/', img_size, num_per_class=50, batch_size=batch_size))\n",
    "test_num = len(testloader_small)\n",
    "print(\"Finish loading %d minibatches (batch_size=%d) of testing samples.\" % (test_num, batch_size))"
   ]
  },
  {
   "cell_type": "code",
   "execution_count": 51,
   "metadata": {
    "colab": {},
    "colab_type": "code",
    "id": "gekIIIh9fZ8j"
   },
   "outputs": [],
   "source": [
    "#--------------------------------------------------\n",
    "#       Define Network Architecture\n",
    "#--------------------------------------------------\n",
    "class TNet(nn.Module):\n",
    "    def __init__(self):\n",
    "      super(TNet,self).__init__()  \n",
    "           \n",
    "      self.features = torch.nn.Sequential(\n",
    "        nn.Conv2d(1, 64, 3),\n",
    "        nn.ReLU(),\n",
    "        nn.MaxPool2d(4, stride=4), \n",
    "        nn.Dropout(0.5),\n",
    "\n",
    "        nn.Conv2d(64, 128, 3),\n",
    "        nn.Tanh(),\n",
    "        nn.MaxPool2d(4, stride=4),\n",
    "      )\n",
    "      \n",
    "      self.classifier = nn.Sequential(\n",
    "         nn.Linear(1152, 128), \n",
    "      )\n",
    "      \n",
    "    def forward(self, x):\n",
    "      x = self.features(x)  \n",
    "      x = torch.flatten(x, 1)\n",
    "      x = self.classifier(x)\n",
    "      return x  "
   ]
  },
  {
   "cell_type": "code",
   "execution_count": 52,
   "metadata": {
    "colab": {},
    "colab_type": "code",
    "id": "QonkDqbUWG0l"
   },
   "outputs": [
    {
     "name": "stdout",
     "output_type": "stream",
     "text": [
      "Epoch: 1 | Iter:    0 | Time: 00:00:00 | Train Loss: 4.8652 | Average Loss: 4.8652 \n",
      "Epoch: 1 | Iter:   20 | Time: 00:00:04 | Train Loss: 2.6783 | Average Loss: 2.9423 \n",
      "Accuracy: 0.242188 | Time: 00:00:00\n",
      "Epoch: 2 | Iter:    0 | Time: 00:00:08 | Train Loss: 2.3527 | Average Loss: 2.7646 \n",
      "Epoch: 2 | Iter:   20 | Time: 00:00:12 | Train Loss: 2.1260 | Average Loss: 2.5812 \n",
      "Accuracy: 0.338542 | Time: 00:00:00\n",
      "Epoch: 3 | Iter:    0 | Time: 00:00:16 | Train Loss: 1.9521 | Average Loss: 2.4604 \n",
      "Epoch: 3 | Iter:   20 | Time: 00:00:20 | Train Loss: 1.7608 | Average Loss: 2.3224 \n",
      "Accuracy: 0.380208 | Time: 00:00:00\n",
      "Epoch: 4 | Iter:    0 | Time: 00:00:25 | Train Loss: 1.6741 | Average Loss: 2.2334 \n",
      "Epoch: 4 | Iter:   20 | Time: 00:00:29 | Train Loss: 1.5238 | Average Loss: 2.1246 \n",
      "Accuracy: 0.424479 | Time: 00:00:00\n",
      "Epoch: 5 | Iter:    0 | Time: 00:00:33 | Train Loss: 1.4544 | Average Loss: 2.0548 \n",
      "Epoch: 5 | Iter:   20 | Time: 00:00:37 | Train Loss: 1.3553 | Average Loss: 1.9700 \n",
      "Accuracy: 0.484375 | Time: 00:00:00\n",
      "Epoch: 6 | Iter:    0 | Time: 00:00:41 | Train Loss: 1.2859 | Average Loss: 1.9150 \n",
      "Epoch: 6 | Iter:   20 | Time: 00:00:45 | Train Loss: 1.2339 | Average Loss: 1.8470 \n",
      "Accuracy: 0.554688 | Time: 00:00:00\n",
      "Epoch: 7 | Iter:    0 | Time: 00:00:49 | Train Loss: 1.2792 | Average Loss: 1.7990 \n",
      "Epoch: 7 | Iter:   20 | Time: 00:00:53 | Train Loss: 1.1948 | Average Loss: 1.7416 \n",
      "Accuracy: 0.557292 | Time: 00:00:00\n",
      "Epoch: 8 | Iter:    0 | Time: 00:00:57 | Train Loss: 1.0956 | Average Loss: 1.7013 \n",
      "Epoch: 8 | Iter:   20 | Time: 00:01:01 | Train Loss: 1.1391 | Average Loss: 1.6515 \n",
      "Accuracy: 0.570312 | Time: 00:00:00\n",
      "Epoch: 9 | Iter:    0 | Time: 00:01:05 | Train Loss: 1.0858 | Average Loss: 1.6160 \n",
      "Epoch: 9 | Iter:   20 | Time: 00:01:09 | Train Loss: 1.0514 | Average Loss: 1.5732 \n",
      "Accuracy: 0.559896 | Time: 00:00:00\n",
      "Epoch:10 | Iter:    0 | Time: 00:01:13 | Train Loss: 0.8932 | Average Loss: 1.5411 \n",
      "Epoch:10 | Iter:   20 | Time: 00:01:17 | Train Loss: 0.9494 | Average Loss: 1.5010 \n",
      "Accuracy: 0.575521 | Time: 00:00:00\n",
      "Epoch:11 | Iter:    0 | Time: 00:01:21 | Train Loss: 0.8919 | Average Loss: 1.4731 \n",
      "Epoch:11 | Iter:   20 | Time: 00:01:26 | Train Loss: 0.8409 | Average Loss: 1.4383 \n",
      "Accuracy: 0.580729 | Time: 00:00:00\n",
      "Epoch:12 | Iter:    0 | Time: 00:01:30 | Train Loss: 0.9076 | Average Loss: 1.4125 \n",
      "Epoch:12 | Iter:   20 | Time: 00:01:34 | Train Loss: 0.8277 | Average Loss: 1.3804 \n",
      "Accuracy: 0.619792 | Time: 00:00:00\n",
      "Epoch:13 | Iter:    0 | Time: 00:01:38 | Train Loss: 0.7388 | Average Loss: 1.3561 \n",
      "Epoch:13 | Iter:   20 | Time: 00:01:42 | Train Loss: 0.7484 | Average Loss: 1.3268 \n",
      "Accuracy: 0.635417 | Time: 00:00:00\n",
      "Epoch:14 | Iter:    0 | Time: 00:01:46 | Train Loss: 0.6954 | Average Loss: 1.3039 \n",
      "Epoch:14 | Iter:   20 | Time: 00:01:50 | Train Loss: 0.7415 | Average Loss: 1.2776 \n",
      "Accuracy: 0.638021 | Time: 00:00:00\n",
      "Epoch:15 | Iter:    0 | Time: 00:01:54 | Train Loss: 0.5764 | Average Loss: 1.2565 \n",
      "Epoch:15 | Iter:   20 | Time: 00:01:58 | Train Loss: 0.7087 | Average Loss: 1.2322 \n",
      "Accuracy: 0.625000 | Time: 00:00:00\n",
      "Epoch:16 | Iter:    0 | Time: 00:02:02 | Train Loss: 0.6735 | Average Loss: 1.2128 \n",
      "Epoch:16 | Iter:   20 | Time: 00:02:06 | Train Loss: 0.6633 | Average Loss: 1.1895 \n",
      "Accuracy: 0.617188 | Time: 00:00:00\n",
      "Epoch:17 | Iter:    0 | Time: 00:02:10 | Train Loss: 0.5222 | Average Loss: 1.1700 \n",
      "Epoch:17 | Iter:   20 | Time: 00:02:14 | Train Loss: 0.6378 | Average Loss: 1.1483 \n",
      "Accuracy: 0.619792 | Time: 00:00:00\n",
      "Epoch:18 | Iter:    0 | Time: 00:02:19 | Train Loss: 0.5365 | Average Loss: 1.1311 \n",
      "Epoch:18 | Iter:   20 | Time: 00:02:23 | Train Loss: 0.6347 | Average Loss: 1.1119 \n",
      "Accuracy: 0.648438 | Time: 00:00:00\n",
      "Epoch:19 | Iter:    0 | Time: 00:02:27 | Train Loss: 0.4556 | Average Loss: 1.0951 \n",
      "Epoch:19 | Iter:   20 | Time: 00:02:31 | Train Loss: 0.5767 | Average Loss: 1.0770 \n",
      "Accuracy: 0.632812 | Time: 00:00:00\n",
      "Epoch:20 | Iter:    0 | Time: 00:02:36 | Train Loss: 0.4216 | Average Loss: 1.0614 \n",
      "Epoch:20 | Iter:   20 | Time: 00:02:40 | Train Loss: 0.5130 | Average Loss: 1.0436 \n",
      "Accuracy: 0.635417 | Time: 00:00:00\n"
     ]
    }
   ],
   "source": [
    "#--------------------------------------------------\n",
    "#       Start Training & Evaluation\n",
    "#--------------------------------------------------\n",
    "net = TNet() \n",
    "train_option = {}\n",
    "train_option['lr'] = 0.002\n",
    "train_option['epoch'] = 20\n",
    "train_option['device'] = 'gpu'\n",
    "trainModel(net, trainloader_small, train_option, testloader_small)"
   ]
  },
  {
   "cell_type": "markdown",
   "metadata": {
    "colab_type": "text",
    "id": "K-ope9-mH4iu"
   },
   "source": [
    "**Answer**:\n",
    "\n",
    "Technique 3: Changed activation function to Tanh\n",
    "\n",
    "Accuracy on test set: 0.635417\n",
    "\n",
    "Accuracy increases/decreases: increases"
   ]
  },
  {
   "cell_type": "markdown",
   "metadata": {
    "colab_type": "text",
    "collapsed": true,
    "id": "nBHKIxzAYYM2"
   },
   "source": [
    "## Problem 2: Fine Tuning a Pre-Trained Deep Network\n",
    "Our convolutional network to this point isn't \"deep\". Fortunately, the representations learned by deep convolutional networks is that they generalize surprisingly well to other recognition tasks. \n",
    "\n",
    "But how do we use an existing deep network for a new recognition task? Take for instance,  [AlexNet](http://papers.nips.cc/paper/4824-imagenet-classification-with-deep-convolutional-neural-networks) network has 1000 units in the final layer corresponding to 1000 ImageNet categories.\n",
    "\n",
    "\n",
    "**Hints**:\n",
    "- Many pre-trained models are available in PyTorch at [here](http://pytorch.org/docs/master/torchvision/models.html).\n",
    "- For fine-tuning pretrained network using PyTorch, please read this [tutorial](http://pytorch.org/tutorials/beginner/transfer_learning_tutorial.html)."
   ]
  },
  {
   "cell_type": "markdown",
   "metadata": {
    "colab_type": "text",
    "id": "ALojw_R5LrRt"
   },
   "source": [
    "### Problem 2.1\n",
    "\n",
    "**Strategy A**: *Fine-tune* an existing network. In this scenario you take an existing network, replace the final layer (or more) with random weights, and train the entire network again with images and ground truth labels for your recognition task. You are effectively treating the pre-trained deep network as a better initialization than the random weights used when training from scratch. When you don't have enough training data to train a complex network from scratch (e.g. with the 16 classes) this is an attractive option. Fine-tuning can work far better than Strategy B of taking the activations directly from an pre-trained CNN. For example, in [this paper](http://www.cc.gatech.edu/~hays/papers/deep_geo.pdf) from CVPR 2015, there wasn't enough data to train a deep network from scratch, but fine tuning led to 4 times higher accuracy than using off-the-shelf networks directly.\n",
    "\n",
    "(25 points) You are required to implement Strategy A to fine-tune a pre-trained **AlexNet** for this scene classification task. You should be able to achieve accuracy of **0.85** approximately. The minimum accuracy required for this section is **0.75**.\n",
    "\n",
    "Please provide detailed descriptions of:<br>\n",
    "(1) which layers of AlexNet have been replaced<br>\n",
    "(2) the architecture of the new layers added including activation methods (same as problem 1)<br>\n",
    "(3) the final accuracy on test set <br>"
   ]
  },
  {
   "cell_type": "code",
   "execution_count": 9,
   "metadata": {
    "colab": {},
    "colab_type": "code",
    "id": "VLG3WtEmYYM3"
   },
   "outputs": [
    {
     "name": "stdout",
     "output_type": "stream",
     "text": [
      "Loading images from class: 0\n"
     ]
    },
    {
     "name": "stderr",
     "output_type": "stream",
     "text": [
      "/var/folders/pk/yh0zm7715z35f7sw6344hj340000gn/T/ipykernel_12429/135866193.py:43: DeprecationWarning: `np.float` is a deprecated alias for the builtin `float`. To silence this warning, use `float` by itself. Doing this will not modify any behavior and is safe. If you specifically wanted the numpy scalar type, use `np.float64` here.\n",
      "Deprecated in NumPy 1.20; for more details and guidance: https://numpy.org/devdocs/release/1.20.0-notes.html#deprecations\n",
      "  data.append(img.astype(np.float)/255*2-1)\n"
     ]
    },
    {
     "name": "stdout",
     "output_type": "stream",
     "text": [
      "Loading images from class: 1\n",
      "Loading images from class: 2\n",
      "Loading images from class: 3\n",
      "Loading images from class: 4\n",
      "Loading images from class: 5\n",
      "Loading images from class: 6\n",
      "Loading images from class: 7\n",
      "Loading images from class: 8\n",
      "Loading images from class: 9\n",
      "Loading images from class: 10\n",
      "Loading images from class: 11\n",
      "Loading images from class: 12\n",
      "Loading images from class: 13\n",
      "Loading images from class: 14\n",
      "Loading images from class: 15\n",
      "Finish loading 50 minibatches (batch_size=64) of training samples.\n",
      "Loading images from class: 0\n",
      "Loading images from class: 1\n",
      "Loading images from class: 2\n",
      "Loading images from class: 3\n",
      "Loading images from class: 4\n",
      "Loading images from class: 5\n",
      "Loading images from class: 6\n",
      "Loading images from class: 7\n",
      "Loading images from class: 8\n",
      "Loading images from class: 9\n",
      "Loading images from class: 10\n",
      "Loading images from class: 11\n",
      "Loading images from class: 12\n",
      "Loading images from class: 13\n",
      "Loading images from class: 14\n",
      "Loading images from class: 15\n",
      "Finish loading 6 minibatches (batch_size=64) of testing samples.\n"
     ]
    }
   ],
   "source": [
    "# reload data with a larger size\n",
    "\n",
    "img_size = (224, 224)\n",
    "batch_size = 64 # training sample number per batch \n",
    "\n",
    "# load training dataset\n",
    "trainloader_large = list(load_dataset('./data/train/', img_size, num_per_class=100, batch_size=batch_size, shuffle=True, augment=True, is_color=True, zero_centered=True))\n",
    "train_num = len(trainloader_large)\n",
    "print(\"Finish loading %d minibatches (batch_size=%d) of training samples.\" % (train_num, batch_size))\n",
    "\n",
    "# load testing dataset\n",
    "testloader_large = list(load_dataset('./data/test/', img_size, num_per_class=50, batch_size=batch_size, is_color=True, zero_centered=True))\n",
    "test_num = len(testloader_large)\n",
    "print(\"Finish loading %d minibatches (batch_size=%d) of testing samples.\" % (test_num, batch_size))"
   ]
  },
  {
   "cell_type": "code",
   "execution_count": 12,
   "metadata": {
    "colab": {},
    "colab_type": "code",
    "id": "btOal_ampEnm"
   },
   "outputs": [
    {
     "name": "stdout",
     "output_type": "stream",
     "text": [
      "Epoch: 1 | Iter:    0 | Time: 00:00:03 | Train Loss: 5.1429 | Average Loss: 5.1429 \n",
      "Epoch: 1 | Iter:   20 | Time: 00:01:08 | Train Loss: 3.6943 | Average Loss: 4.0098 \n",
      "Epoch: 1 | Iter:   40 | Time: 00:02:14 | Train Loss: 2.8285 | Average Loss: 3.6170 \n",
      "Accuracy: 0.755208 | Time: 00:00:07\n",
      "Epoch: 2 | Iter:    0 | Time: 00:02:55 | Train Loss: 3.1450 | Average Loss: 3.5432 \n",
      "Epoch: 2 | Iter:   20 | Time: 00:04:00 | Train Loss: 2.9637 | Average Loss: 3.4001 \n",
      "Epoch: 2 | Iter:   40 | Time: 00:05:06 | Train Loss: 2.7618 | Average Loss: 3.3074 \n",
      "Accuracy: 0.804688 | Time: 00:00:07\n",
      "Epoch: 3 | Iter:    0 | Time: 00:05:47 | Train Loss: 3.1011 | Average Loss: 3.2568 \n",
      "Epoch: 3 | Iter:   20 | Time: 00:06:54 | Train Loss: 2.6160 | Average Loss: 3.1811 \n",
      "Epoch: 3 | Iter:   40 | Time: 00:07:59 | Train Loss: 2.4365 | Average Loss: 3.1341 \n",
      "Accuracy: 0.820312 | Time: 00:00:07\n",
      "Epoch: 4 | Iter:    0 | Time: 00:08:40 | Train Loss: 2.7267 | Average Loss: 3.1062 \n",
      "Epoch: 4 | Iter:   20 | Time: 00:09:51 | Train Loss: 2.7199 | Average Loss: 3.0530 \n",
      "Epoch: 4 | Iter:   40 | Time: 00:10:57 | Train Loss: 2.6751 | Average Loss: 3.0187 \n",
      "Accuracy: 0.815104 | Time: 00:00:07\n",
      "Epoch: 5 | Iter:    0 | Time: 00:11:37 | Train Loss: 2.8064 | Average Loss: 3.0016 \n",
      "Epoch: 5 | Iter:   20 | Time: 00:12:43 | Train Loss: 2.5521 | Average Loss: 2.9678 \n",
      "Epoch: 5 | Iter:   40 | Time: 00:13:49 | Train Loss: 2.5567 | Average Loss: 2.9259 \n",
      "Accuracy: 0.846354 | Time: 00:00:07\n",
      "Epoch: 6 | Iter:    0 | Time: 00:14:31 | Train Loss: 1.9457 | Average Loss: 2.9040 \n",
      "Epoch: 6 | Iter:   20 | Time: 00:15:36 | Train Loss: 2.8996 | Average Loss: 2.8767 \n",
      "Epoch: 6 | Iter:   40 | Time: 00:16:43 | Train Loss: 2.5653 | Average Loss: 2.8553 \n",
      "Accuracy: 0.820312 | Time: 00:00:07\n",
      "Epoch: 7 | Iter:    0 | Time: 00:17:24 | Train Loss: 2.6067 | Average Loss: 2.8470 \n",
      "Epoch: 7 | Iter:   20 | Time: 00:18:30 | Train Loss: 2.8594 | Average Loss: 2.8172 \n",
      "Epoch: 7 | Iter:   40 | Time: 00:19:36 | Train Loss: 2.7636 | Average Loss: 2.8047 \n",
      "Accuracy: 0.833333 | Time: 00:00:07\n",
      "Epoch: 8 | Iter:    0 | Time: 00:20:17 | Train Loss: 2.9229 | Average Loss: 2.7979 \n",
      "Epoch: 8 | Iter:   20 | Time: 00:21:23 | Train Loss: 2.2320 | Average Loss: 2.7792 \n",
      "Epoch: 8 | Iter:   40 | Time: 00:22:29 | Train Loss: 1.8238 | Average Loss: 2.7672 \n",
      "Accuracy: 0.830729 | Time: 00:00:07\n",
      "Epoch: 9 | Iter:    0 | Time: 00:23:10 | Train Loss: 2.5274 | Average Loss: 2.7588 \n",
      "Epoch: 9 | Iter:   20 | Time: 00:24:16 | Train Loss: 2.3256 | Average Loss: 2.7414 \n",
      "Epoch: 9 | Iter:   40 | Time: 00:25:22 | Train Loss: 2.1160 | Average Loss: 2.7246 \n",
      "Accuracy: 0.822917 | Time: 00:00:07\n",
      "Epoch:10 | Iter:    0 | Time: 00:26:03 | Train Loss: 2.6176 | Average Loss: 2.7185 \n",
      "Epoch:10 | Iter:   20 | Time: 00:27:10 | Train Loss: 2.5039 | Average Loss: 2.7071 \n",
      "Epoch:10 | Iter:   40 | Time: 00:28:15 | Train Loss: 2.2654 | Average Loss: 2.6935 \n",
      "Accuracy: 0.835938 | Time: 00:00:08\n",
      "Epoch:11 | Iter:    0 | Time: 00:28:56 | Train Loss: 2.6570 | Average Loss: 2.6857 \n",
      "Epoch:11 | Iter:   20 | Time: 00:30:03 | Train Loss: 2.2666 | Average Loss: 2.6713 \n",
      "Epoch:11 | Iter:   40 | Time: 00:31:09 | Train Loss: 2.1365 | Average Loss: 2.6616 \n",
      "Accuracy: 0.843750 | Time: 00:00:07\n",
      "Epoch:12 | Iter:    0 | Time: 00:31:52 | Train Loss: 1.8969 | Average Loss: 2.6546 \n",
      "Epoch:12 | Iter:   20 | Time: 00:32:57 | Train Loss: 2.0975 | Average Loss: 2.6419 \n",
      "Epoch:12 | Iter:   40 | Time: 00:34:08 | Train Loss: 2.1608 | Average Loss: 2.6315 \n",
      "Accuracy: 0.830729 | Time: 00:00:09\n",
      "Epoch:13 | Iter:    0 | Time: 00:34:50 | Train Loss: 1.9969 | Average Loss: 2.6278 \n",
      "Epoch:13 | Iter:   20 | Time: 00:35:55 | Train Loss: 2.2232 | Average Loss: 2.6184 \n",
      "Epoch:13 | Iter:   40 | Time: 00:37:01 | Train Loss: 2.3467 | Average Loss: 2.6089 \n",
      "Accuracy: 0.843750 | Time: 00:00:07\n",
      "Epoch:14 | Iter:    0 | Time: 00:37:42 | Train Loss: 2.3547 | Average Loss: 2.6052 \n",
      "Epoch:14 | Iter:   20 | Time: 00:38:48 | Train Loss: 2.2928 | Average Loss: 2.5960 \n",
      "Epoch:14 | Iter:   40 | Time: 00:39:57 | Train Loss: 2.1582 | Average Loss: 2.5910 \n",
      "Accuracy: 0.835938 | Time: 00:00:07\n",
      "Epoch:15 | Iter:    0 | Time: 00:40:37 | Train Loss: 2.7258 | Average Loss: 2.5880 \n",
      "Epoch:15 | Iter:   20 | Time: 00:41:45 | Train Loss: 2.5238 | Average Loss: 2.5817 \n",
      "Epoch:15 | Iter:   40 | Time: 00:42:51 | Train Loss: 2.2584 | Average Loss: 2.5737 \n",
      "Accuracy: 0.851562 | Time: 00:00:07\n",
      "Epoch:16 | Iter:    0 | Time: 00:43:32 | Train Loss: 2.2158 | Average Loss: 2.5710 \n",
      "Epoch:16 | Iter:   20 | Time: 00:44:38 | Train Loss: 1.8863 | Average Loss: 2.5612 \n",
      "Epoch:16 | Iter:   40 | Time: 00:45:44 | Train Loss: 2.3538 | Average Loss: 2.5555 \n",
      "Accuracy: 0.830729 | Time: 00:00:07\n",
      "Epoch:17 | Iter:    0 | Time: 00:46:24 | Train Loss: 2.3427 | Average Loss: 2.5503 \n",
      "Epoch:17 | Iter:   20 | Time: 00:47:31 | Train Loss: 2.0397 | Average Loss: 2.5463 \n",
      "Epoch:17 | Iter:   40 | Time: 00:48:37 | Train Loss: 2.4582 | Average Loss: 2.5417 \n",
      "Accuracy: 0.848958 | Time: 00:00:07\n",
      "Epoch:18 | Iter:    0 | Time: 00:49:18 | Train Loss: 1.8689 | Average Loss: 2.5384 \n",
      "Epoch:18 | Iter:   20 | Time: 00:50:24 | Train Loss: 2.5658 | Average Loss: 2.5313 \n",
      "Epoch:18 | Iter:   40 | Time: 00:51:30 | Train Loss: 2.5570 | Average Loss: 2.5269 \n",
      "Accuracy: 0.833333 | Time: 00:00:07\n",
      "Epoch:19 | Iter:    0 | Time: 00:52:11 | Train Loss: 2.3078 | Average Loss: 2.5239 \n",
      "Epoch:19 | Iter:   20 | Time: 00:53:17 | Train Loss: 2.0169 | Average Loss: 2.5155 \n",
      "Epoch:19 | Iter:   40 | Time: 00:54:23 | Train Loss: 2.1062 | Average Loss: 2.5114 \n",
      "Accuracy: 0.838542 | Time: 00:00:07\n",
      "Epoch:20 | Iter:    0 | Time: 00:55:04 | Train Loss: 2.2332 | Average Loss: 2.5093 \n",
      "Epoch:20 | Iter:   20 | Time: 01:26:36 | Train Loss: 2.3574 | Average Loss: 2.5016 \n",
      "Epoch:20 | Iter:   40 | Time: 01:32:08 | Train Loss: 2.0902 | Average Loss: 2.4957 \n",
      "Accuracy: 0.835938 | Time: 00:00:07\n",
      "Accuracy: 0.835938 | Time: 00:00:06\n"
     ]
    }
   ],
   "source": [
    "#--------------------------------------------------\n",
    "#       Fine-Tune Pretrained Network\n",
    "#--------------------------------------------------\n",
    "alexnet_a = torchvision.models.alexnet(pretrained=True)\n",
    "alexnet_a.classifier = nn.Sequential(\n",
    "    nn.Linear(9216, 2048),\n",
    "    nn.BatchNorm1d(2048),\n",
    "    nn.LeakyReLU(),\n",
    "    nn.Dropout(),\n",
    "    nn.Linear(2048, 64),\n",
    "    nn.BatchNorm1d(64),\n",
    "    nn.LeakyReLU(),\n",
    "    nn.Dropout()\n",
    ")\n",
    "\n",
    "train_option = {}\n",
    "train_option['lr'] = 0.01\n",
    "train_option['epoch'] = 20\n",
    "train_option['device'] = 'gpu'\n",
    "train_option['optimizer'] = torch.optim.SGD(alexnet_a.parameters(), lr = train_option['lr'])\n",
    "trainModel(alexnet_a, trainloader_large, train_option, testloader_large)\n",
    "\n",
    "evalModel(alexnet_a,testloader_large)"
   ]
  },
  {
   "cell_type": "markdown",
   "metadata": {
    "colab_type": "text",
    "id": "asBxQT03O1XC"
   },
   "source": [
    "**Answer**:\n",
    "\n",
    "(1) which layers of AlexNet have been replaced:\n",
    "\n",
    "Replaced the last classifier layer with fully connected layers\n",
    "\n",
    "(2) the architecture of the new layers added including activation methods (same as problem 1)\n",
    "\n",
    "Data augmentation: Using np.flip along 0 axis, creating a mirror image.\n",
    "\n",
    "Data normalization: Calculated and subtracted mean.\n",
    "\n",
    "Features Layers : same\n",
    "\n",
    "Classifier Layer 1: Same as alexnet \n",
    "\n",
    "Classifier Layer 2: Same as alexnet \n",
    "\n",
    "Classifier Layer 3: Replaced with custom layer \n",
    "\n",
    "\n",
    "(3) the final accuracy on test set\n",
    "\n",
    "Accuracy on test set: 83.6%\n",
    "\n"
   ]
  },
  {
   "cell_type": "markdown",
   "metadata": {
    "colab_type": "text",
    "id": "nzEaPw-kMudB"
   },
   "source": [
    "### Problem 2.2\n",
    "**Strategy B**: One could use those 1000 activations as a feature in place of a hand crafted feature such as a bag-of-features representation. You would train a classifier (typically a linear SVM) in that 1000 dimensional feature space. However, those activations are clearly very object specific and may not generalize well to new recognition tasks. It is generally better to use the activations in slightly earlier layers of the network, e.g. the 4096 activations in the last 2nd fully-connected layer. You can often get away with sub-sampling those 4096 activations considerably, e.g. taking only the first 1000 activations.\n",
    "\n",
    "(25 points) Implement Strategy B where you use the activations of the pre-trained **AlexNet** as features to train **one-vs-all SVMs** for your scene classification task. Report the final accuracy on test set. You should be able to achieve accuracy of **0.80** approximately. The minimum accuracy required for this section is **0.70**."
   ]
  },
  {
   "cell_type": "code",
   "execution_count": 17,
   "metadata": {
    "colab": {},
    "colab_type": "code",
    "id": "K9pmTLWH7KIs"
   },
   "outputs": [],
   "source": [
    "#--------------------------------------------------\n",
    "#       Get Features from AlexNet\n",
    "#--------------------------------------------------\n",
    "from sklearn import svm\n",
    "\n",
    "alexnet_b = torchvision.models.alexnet(pretrained=True)\n",
    "alexnet_b.classifier = nn.Sequential(*[alexnet_b.classifier[i] for i in range(6)])\n",
    "\n",
    "train_features = []\n",
    "train_labels = []\n",
    "\n",
    "for data in trainloader_large:\n",
    "  images, labels = data\n",
    "  images = images.to(torch.float)\n",
    "  train_labels.extend(labels)\n",
    "  features = alexnet_b(images)\n",
    "  train_features.extend(features)\n",
    "\n",
    "for i in range(len(train_features)):\n",
    "  train_features[i] = train_features[i].detach().numpy()\n",
    "  train_labels[i] = train_labels[i].detach().numpy()\n",
    "\n",
    "  \n",
    "test_features = []\n",
    "test_labels = []\n",
    "for data in testloader_large:\n",
    "  images, labels = data\n",
    "  images = images.to(torch.float)\n",
    "  test_labels.extend(labels)\n",
    "  features = alexnet_b(images)\n",
    "  test_features.extend(features)\n",
    "\n",
    "for i in range(len(test_features)):\n",
    "  test_features[i] = test_features[i].detach().numpy()\n",
    "  test_labels[i] = test_labels[i].detach().numpy()\n"
   ]
  },
  {
   "cell_type": "code",
   "execution_count": 18,
   "metadata": {
    "colab": {},
    "colab_type": "code",
    "id": "ghPvfDAUT-Xs"
   },
   "outputs": [
    {
     "name": "stdout",
     "output_type": "stream",
     "text": [
      "0.8098958333333334\n"
     ]
    }
   ],
   "source": [
    "#--------------------------------------------------\n",
    "#       Train and Evaluate SVM\n",
    "#--------------------------------------------------\n",
    "lambda_ = 5\n",
    "def train_and_test():\n",
    "  start_svm = time.process_time()\n",
    "  my_svm = svm.LinearSVC(C=lambda_, class_weight=None, dual=False, fit_intercept=True, intercept_scaling=1, loss='squared_hinge', max_iter= 1000, multi_class='ovr', penalty='l2', random_state=0, tol= 0.0001, verbose=0)\n",
    "  my_svm.fit(train_features, train_labels)\n",
    "  end_svm = time.process_time()\n",
    "  time_consumed_svm = end_svm - start_svm\n",
    "\n",
    "  start_svm_test = time.process_time()\n",
    "  pred_svm = my_svm.predict(test_features)\n",
    "  end_svm_test = time.process_time()\n",
    "  time_consumed_svm_test = end_svm_test - start_svm_test\n",
    "  \n",
    "  return pred_svm, time_consumed_svm, time_consumed_svm_test\n",
    "\n",
    "\n",
    "pred_svm, t_train, t_test = train_and_test()  \n",
    "\n",
    "accuracy_svm = sum(np.array(pred_svm) == test_labels) / float(len(pred_svm))\n",
    "\n",
    "print(accuracy_svm)"
   ]
  },
  {
   "cell_type": "markdown",
   "metadata": {
    "colab_type": "text",
    "id": "aRw9JWtMSrWi"
   },
   "source": [
    "**Answer**:\n",
    "\n",
    "Accuracy on test set: 80.99%"
   ]
  },
  {
   "cell_type": "markdown",
   "metadata": {
    "colab_type": "text",
    "id": "zJHZ5NB4O8vE"
   },
   "source": [
    "### Problem 2.3 (Bonus)\n",
    "\n",
    "(Bonus: 10 points) Bonus will be given to those who fine-tune the [ResNet network](https://pytorch.org/docs/stable/_modules/torchvision/models/resnet.html) [(paper)](https://arxiv.org/abs/1512.03385) and compare performance with AlexNet. Explain why ResNet performed better or worse. You are **required** to use **resnet50** model. You should be able to achieve accuracy of **0.99** approximately. The minimum accuracy required for this section is **0.85**."
   ]
  },
  {
   "cell_type": "code",
   "execution_count": 21,
   "metadata": {
    "colab": {},
    "colab_type": "code",
    "id": "wC0I4MWBk7pr"
   },
   "outputs": [
    {
     "name": "stdout",
     "output_type": "stream",
     "text": [
      "Epoch: 1 | Iter:    0 | Time: 00:00:41 | Train Loss: 9.7723 | Average Loss: 9.7723 \n",
      "Epoch: 1 | Iter:   20 | Time: 00:13:02 | Train Loss: 0.7771 | Average Loss: 3.4136 \n",
      "Epoch: 1 | Iter:   40 | Time: 00:25:47 | Train Loss: 0.2552 | Average Loss: 1.9859 \n",
      "Accuracy: 0.895833 | Time: 00:01:19\n"
     ]
    }
   ],
   "source": [
    "#--------------------------------------------------\n",
    "#       Fine-Tune Pretrained Network\n",
    "#--------------------------------------------------\n",
    "resnet = torchvision.models.resnet50(pretrained=True) \n",
    "resnet.classifier = nn.Sequential(\n",
    "    nn.Linear(9216, 2048),\n",
    "    nn.BatchNorm1d(2048),\n",
    "    nn.LeakyReLU(),\n",
    "    nn.Dropout(),\n",
    "    nn.Linear(2048, 64),\n",
    "    nn.BatchNorm1d(64),\n",
    "    nn.LeakyReLU(),\n",
    "    nn.Dropout(),\n",
    ")\n",
    "#--------------------------------------------------\n",
    "#       Start Training & Evaluation\n",
    "#--------------------------------------------------\n",
    "train_option = {}\n",
    "train_option['lr'] = 0.0001\n",
    "train_option['epoch'] = 1\n",
    "train_option['loss'] = nn.CrossEntropyLoss\n",
    "resnet.train()\n",
    "\n",
    "trainModel(resnet, trainloader_large, train_option)\n",
    "evalModel(resnet,testloader_large)"
   ]
  },
  {
   "cell_type": "markdown",
   "metadata": {
    "colab_type": "text",
    "id": "HIDUPJEmeHrM"
   },
   "source": [
    "**Answer**:\n",
    "\n",
    "Accuracy on test set: 89.6%\n"
   ]
  },
  {
   "cell_type": "markdown",
   "metadata": {
    "colab_type": "text",
    "id": "5UGefIYpYYNF"
   },
   "source": [
    "## Submission guidelines\n",
    "---\n",
    "Extract the downloaded .zip file to a folder of your preference. The input and output paths are predefined and **DO NOT** change them, (we assume that 'Surname_Givenname_SBUID_hw4' is your working directory, and all the paths are relative to this directory).  The image read and write functions are already written for you. All you need to do is to fill in the blanks as indicated to generate proper outputs. **DO NOT** zip and upload the dataset on blackboard due to size limit.\n",
    "\n",
    "When submitting your .zip file through blackboard, please\n",
    "-- name your .zip file as **Surname_Givenname_SBUID_hw*.zip**.\n",
    "\n",
    "This zip file should include:\n",
    "```\n",
    "Surname_Givenname_SBUID_hw*\n",
    "        |---Surname_Givenname_SBUID_hw*.ipynb\n",
    "        |---Surname_Givenname_SBUID_hw*.pdf\n",
    "```\n",
    "\n",
    "For instance, student Yann LeCun should submit a zip file named \"LeCun_Yann_111134567_hw4.zip\" for homework4 in this structure:\n",
    "```\n",
    "LeCun_Yann_111134567_hw4\n",
    "        |---LeCun_Yann_111134567_hw4.ipynb\n",
    "        |---LeCun_Yann_111134567_hw4.pdf\n",
    "```\n",
    "\n",
    "The **Surname_Givenname_SBUID_hw*.pdf** should include a **google shared link**. To generate the **google shared link**, first create a folder named **Surname_Givenname_SBUID_hw*** in your Google Drive with your Stony Brook account. The structure of the files in the folder should be exactly the same as the one you downloaded. If you alter the folder structures, the grading of your homework will be significantly delayed and possibly penalized.\n",
    "\n",
    "Then right click this folder, click ***Get shareable link***, in the People textfield, enter TA's email: ***kgarigapati@cs.stonybrook.edu***. Make sure that TAs who have the link **can edit**, ***not just*** **can view**, and also **uncheck** the **Notify people** box.\n",
    "\n",
    "Colab has a good feature of version control, you should take advantage of this to save your work properly. However, the timestamp of the submission made in blackboard is the only one that we consider for grading. To be more specific, we will only grade the version of your code right before the timestamp of the submission made in blackboard. \n",
    "\n",
    "You are encouraged to post and answer questions on Piazza. Based on the amount of email that we have received in past years, there might be dealys in replying to personal emails. Please ask questions on Piazza and send emails only for personal issues.\n",
    "\n",
    "Be aware that your code will undergo plagiarism check both vertically and horizontally. Please do your own work.\n",
    "\n",
    "**Late submission penalty:** <br>\n",
    "There will be a 10% penalty per day for late submission. However, you will have THREE days throughout the whole semester to submit late without penalty. Note that the grace period is calculated by days instead of hours. If you submit the homework one minute after the deadline, one late day will be counted. Likewise, if you submit one minute after the deadline, the 10% penaly will be imposed if not using the grace period."
   ]
  },
  {
   "cell_type": "markdown",
   "metadata": {
    "colab_type": "text",
    "id": "AYJOi8QYYYNG"
   },
   "source": [
    "<!--Write your report here in markdown or html-->\n"
   ]
  }
 ],
 "metadata": {
  "accelerator": "GPU",
  "anaconda-cloud": {},
  "colab": {
   "collapsed_sections": [],
   "machine_shape": "hm",
   "name": "CSE527-20S-HW4.ipynb",
   "provenance": []
  },
  "kernelspec": {
   "display_name": "Python 3",
   "language": "python",
   "name": "python3"
  },
  "language_info": {
   "codemirror_mode": {
    "name": "ipython",
    "version": 3
   },
   "file_extension": ".py",
   "mimetype": "text/x-python",
   "name": "python",
   "nbconvert_exporter": "python",
   "pygments_lexer": "ipython3",
   "version": "3.9.7"
  }
 },
 "nbformat": 4,
 "nbformat_minor": 1
}
